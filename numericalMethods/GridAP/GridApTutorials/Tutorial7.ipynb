{
 "cells": [
  {
   "cell_type": "code",
   "execution_count": 1,
   "id": "915a9438-2250-4d67-815e-498cde214c7f",
   "metadata": {},
   "outputs": [
    {
     "data": {
      "text/plain": [
       "CartesianDiscreteModel()"
      ]
     },
     "execution_count": 1,
     "metadata": {},
     "output_type": "execute_result"
    }
   ],
   "source": [
    "using Gridap\n",
    "domain = (0,1,0,1)\n",
    "partition = (100,100)\n",
    "model = CartesianDiscreteModel(domain,partition)"
   ]
  },
  {
   "cell_type": "code",
   "execution_count": 2,
   "id": "71347195-5e8b-4fb8-bd17-65dc0b8b5a5b",
   "metadata": {},
   "outputs": [
    {
     "data": {
      "text/plain": [
       "UnconstrainedFESpace()"
      ]
     },
     "execution_count": 2,
     "metadata": {},
     "output_type": "execute_result"
    }
   ],
   "source": [
    "order = 1\n",
    "\n",
    "V = FESpace(model, ReferenceFE(raviart_thomas,Float64,order),\n",
    "      conformity=:HDiv, dirichlet_tags=[5,6])\n",
    "\n",
    "Q = FESpace(model, ReferenceFE(lagrangian,Float64,order),\n",
    "      conformity=:L2)"
   ]
  },
  {
   "cell_type": "code",
   "execution_count": 3,
   "id": "adeb0a45-344d-46ad-ab93-90c3607066b7",
   "metadata": {},
   "outputs": [
    {
     "data": {
      "text/plain": [
       "UnconstrainedFESpace()"
      ]
     },
     "execution_count": 3,
     "metadata": {},
     "output_type": "execute_result"
    }
   ],
   "source": [
    "uD = VectorValue(0.0,0.0)\n",
    "U = TrialFESpace(V,uD)\n",
    "P = TrialFESpace(Q)"
   ]
  },
  {
   "cell_type": "code",
   "execution_count": 4,
   "id": "c41b643e-73cc-4e1c-b059-e4b6d2f3864d",
   "metadata": {},
   "outputs": [
    {
     "data": {
      "text/plain": [
       "MultiFieldFESpace()"
      ]
     },
     "execution_count": 4,
     "metadata": {},
     "output_type": "execute_result"
    }
   ],
   "source": [
    "Y = MultiFieldFESpace([V, Q])\n",
    "X = MultiFieldFESpace([U, P])"
   ]
  },
  {
   "cell_type": "code",
   "execution_count": 5,
   "id": "6bcfcf6a-3f38-4583-8dde-929369519843",
   "metadata": {},
   "outputs": [
    {
     "data": {
      "text/plain": [
       "GenericMeasure()"
      ]
     },
     "execution_count": 5,
     "metadata": {},
     "output_type": "execute_result"
    }
   ],
   "source": [
    "trian = Triangulation(model)\n",
    "degree = 2\n",
    "dΩ = Measure(trian,degree)"
   ]
  },
  {
   "cell_type": "code",
   "execution_count": 6,
   "id": "80592bbd-a611-47cc-8702-90f1b0d84aaa",
   "metadata": {},
   "outputs": [
    {
     "data": {
      "text/plain": [
       "GenericMeasure()"
      ]
     },
     "execution_count": 6,
     "metadata": {},
     "output_type": "execute_result"
    }
   ],
   "source": [
    "neumanntags = [8,]\n",
    "btrian = BoundaryTriangulation(model,tags=neumanntags)\n",
    "dΓ = Measure(btrian,degree)"
   ]
  },
  {
   "cell_type": "code",
   "execution_count": 7,
   "id": "0b585699-8802-4eeb-8ab7-412b54432890",
   "metadata": {},
   "outputs": [
    {
     "data": {
      "text/plain": [
       "σ (generic function with 1 method)"
      ]
     },
     "execution_count": 7,
     "metadata": {},
     "output_type": "execute_result"
    }
   ],
   "source": [
    "const kinv1 = TensorValue(1.0,0.0,0.0,1.0)\n",
    "const kinv2 = TensorValue(100.0,90.0,90.0,100.0)\n",
    "function σ(x,u)\n",
    "   if ((abs(x[1]-0.5) <= 0.1) && (abs(x[2]-0.5) <= 0.1))\n",
    "      return kinv2⋅u\n",
    "   else\n",
    "      return kinv1⋅u\n",
    "   end\n",
    "end"
   ]
  },
  {
   "cell_type": "code",
   "execution_count": 8,
   "id": "02b7ebf3-f174-42be-8dfa-f9af28a7f05c",
   "metadata": {},
   "outputs": [
    {
     "data": {
      "text/plain": [
       "a (generic function with 1 method)"
      ]
     },
     "execution_count": 8,
     "metadata": {},
     "output_type": "execute_result"
    }
   ],
   "source": [
    "px = get_physical_coordinate(trian)\n",
    "\n",
    "a((u,p), (v,q)) = ∫(v⋅(σ∘(px,u)) - (∇⋅v)*p + q*(∇⋅u))dΩ"
   ]
  },
  {
   "cell_type": "code",
   "execution_count": 9,
   "id": "5395ea13-1f69-43b5-b06e-87125b4b5d80",
   "metadata": {},
   "outputs": [
    {
     "data": {
      "text/plain": [
       "b (generic function with 1 method)"
      ]
     },
     "execution_count": 9,
     "metadata": {},
     "output_type": "execute_result"
    }
   ],
   "source": [
    "nb = get_normal_vector(btrian)\n",
    "h = -1.0\n",
    "\n",
    "b((v,q)) = ∫((v⋅nb)*h)dΓ"
   ]
  },
  {
   "cell_type": "code",
   "execution_count": 10,
   "id": "e39fe5f1-1285-4a0d-b6b6-f4b0f87f49b9",
   "metadata": {},
   "outputs": [
    {
     "data": {
      "text/plain": [
       "MultiFieldFEFunction():\n",
       " num_cells: 10000\n",
       " DomainStyle: ReferenceDomain()\n",
       " Triangulation: BodyFittedTriangulation()\n",
       " Triangulation id: 2815357640324453940"
      ]
     },
     "execution_count": 10,
     "metadata": {},
     "output_type": "execute_result"
    }
   ],
   "source": [
    "op = AffineFEOperator(a,b,X,Y)\n",
    "xh = solve(op)\n",
    "uh, ph = xh"
   ]
  },
  {
   "cell_type": "code",
   "execution_count": 11,
   "id": "05dc6ed6-c597-4d50-8c71-87fb305ce56e",
   "metadata": {},
   "outputs": [
    {
     "data": {
      "text/plain": [
       "([\"darcyresults.vtu\"],)"
      ]
     },
     "execution_count": 11,
     "metadata": {},
     "output_type": "execute_result"
    }
   ],
   "source": [
    "writevtk(trian,\"darcyresults\",cellfields=[\"uh\"=>uh,\"ph\"=>ph])"
   ]
  },
  {
   "cell_type": "code",
   "execution_count": null,
   "id": "df519e7b-66de-47ae-83df-1e189a14095c",
   "metadata": {},
   "outputs": [],
   "source": []
  }
 ],
 "metadata": {
  "kernelspec": {
   "display_name": "Julia 1.10.0",
   "language": "julia",
   "name": "julia-1.10"
  },
  "language_info": {
   "file_extension": ".jl",
   "mimetype": "application/julia",
   "name": "julia",
   "version": "1.10.0"
  }
 },
 "nbformat": 4,
 "nbformat_minor": 5
}

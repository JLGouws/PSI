{
 "cells": [
  {
   "cell_type": "code",
   "execution_count": 57,
   "id": "adf8c6c3-4cd6-4f24-b8a7-5a6ea8ff7a47",
   "metadata": {},
   "outputs": [],
   "source": [
    "using Gridap\n",
    "using Gridap.Arrays"
   ]
  },
  {
   "cell_type": "markdown",
   "id": "186cd9f7-3000-4be8-80a6-14e2f6ce1695",
   "metadata": {},
   "source": [
    "$$\n",
    "    \\begin{align*}\n",
    "        - \\nabla^2u &= 2 - (x^2 + y^2) \\\\\n",
    "        u &= 0 \\text{ on } \\Gamma_1\\\\\n",
    "        \\frac{\\partial u}{\\partial n} &= 0 \\text{ on } \\Gamma_2\n",
    "    \\end{align*}\n",
    "$$"
   ]
  },
  {
   "cell_type": "code",
   "execution_count": 51,
   "id": "dbe587aa-3750-40e4-9dba-47c7ab88eab7",
   "metadata": {},
   "outputs": [
    {
     "data": {
      "text/plain": [
       "GenericMeasure()"
      ]
     },
     "execution_count": 51,
     "metadata": {},
     "output_type": "execute_result"
    }
   ],
   "source": [
    "domain = (0,1,0,1)\n",
    "partition = (10,10)\n",
    "model = CartesianDiscreteModel(domain,partition)\n",
    "\n",
    "\n",
    "degree = 2\n",
    "Ω = Triangulation(model)\n",
    "dΩ = Measure(Ω,degree)"
   ]
  },
  {
   "cell_type": "code",
   "execution_count": null,
   "id": "528fe840-2ee1-4c52-b3dc-ad80bb344583",
   "metadata": {},
   "outputs": [],
   "source": [
    "labeling = get_face_labeling(model)\n",
    "new_entity = num_entities(labeling) + 1\n",
    "topo = get_grid_topology(model_fluid)\n",
    "D = num_cell_dims(model_fluid)\n",
    "for d in 0:D-1\n",
    "    fluid_boundary_mask = collect(Bool,get_isboundary_face(topo,d))\n",
    "    fluid_outer_boundary_mask = get_face_mask(labeling,\"boundary\",d)\n",
    "    fluid_interface_mask = collect(Bool,fluid_boundary_mask .!= fluid_outer_boundary_mask)\n",
    "    dface_list = findall(fluid_interface_mask)\n",
    "    for face in dface_list\n",
    "        labeling.d_to_dface_to_entity[d+1][face] = new_entity\n",
    "    end\n",
    "end\n",
    "add_tag!(labeling,\"interface\",[new_entity])"
   ]
  },
  {
   "cell_type": "code",
   "execution_count": 39,
   "id": "18f6dded-17fc-4efb-b720-bf36fde3cb36",
   "metadata": {},
   "outputs": [
    {
     "name": "stdout",
     "output_type": "stream",
     "text": [
      "Vector{VectorValue{2, Float64}}[[(0.0, 0.0), (0.5, 0.0), (0.0, 0.5), (0.5, 0.5)] [(0.0, 0.5), (0.5, 0.5), (0.0, 1.0), (0.5, 1.0)]; [(0.5, 0.0), (1.0, 0.0), (0.5, 0.5), (1.0, 0.5)] [(0.5, 0.5), (1.0, 0.5), (0.5, 1.0), (1.0, 1.0)]]\n",
      "hi\n"
     ]
    },
    {
     "ename": "LoadError",
     "evalue": "MethodError: no method matching DiscreteModel(::CartesianDiscreteModel{2, Float64, typeof(identity)}, ::Vector{Int64})\n\n\u001b[0mClosest candidates are:\n\u001b[0m  DiscreteModel(::Gridap.Geometry.Grid, \u001b[91m::Gridap.Geometry.GridTopology\u001b[39m, \u001b[91m::Gridap.Geometry.FaceLabeling\u001b[39m)\n\u001b[0m\u001b[90m   @\u001b[39m \u001b[35mGridap\u001b[39m \u001b[90m~/.julia/packages/Gridap/I60jU/src/Geometry/\u001b[39m\u001b[90m\u001b[4mDiscreteModels.jl:438\u001b[24m\u001b[39m\n",
     "output_type": "error",
     "traceback": [
      "MethodError: no method matching DiscreteModel(::CartesianDiscreteModel{2, Float64, typeof(identity)}, ::Vector{Int64})\n\n\u001b[0mClosest candidates are:\n\u001b[0m  DiscreteModel(::Gridap.Geometry.Grid, \u001b[91m::Gridap.Geometry.GridTopology\u001b[39m, \u001b[91m::Gridap.Geometry.FaceLabeling\u001b[39m)\n\u001b[0m\u001b[90m   @\u001b[39m \u001b[35mGridap\u001b[39m \u001b[90m~/.julia/packages/Gridap/I60jU/src/Geometry/\u001b[39m\u001b[90m\u001b[4mDiscreteModels.jl:438\u001b[24m\u001b[39m\n",
      "",
      "Stacktrace:",
      " [1] top-level scope",
      "   @ In[39]:10"
     ]
    }
   ],
   "source": [
    "function is_in(coords)\n",
    "    V = [coord[1] == 0. || coord[2] == 0. for coord in coords]\n",
    "    \n",
    "end\n",
    "oldcell_to_coods = get_cell_coordinates(Ω)\n",
    "println(oldcell_to_coods)\n",
    "a = lazy_map(is_in,oldcell_to_coods)\n",
    "G1Mask = map(is_in, oldcell_to_coods)\n",
    "G1Cells = findall(vcat(G1Mask...))\n",
    "\n",
    "#vcat(G1Mask...)\n",
    "#incell_to_cell = findall(oldcell_to_is_in)\n",
    "#outcell_to_cell = findall(collect(Bool, .! oldcell_to_is_in))\n",
    "#model_solid = DiscreteModel(model,incell_to_cell)\n",
    "#model_fluid = DiscreteModel(model,outcell_to_cell)\n",
    "\n",
    "# Triangulations\n",
    "#trian_solid = Triangulation(model_solid)\n",
    "#trian_fluid = Triangulation(model_fluid)\n",
    "\n",
    "# Construct boundary triangulation at the fluid-solid interface\n",
    "#topo = get_grid_topology(model_fluid)\n",
    "#labeling = get_face_labeling(model_fluid)\n",
    "#D = num_cell_dims(model_fluid)\n",
    "#fluid_boundary_mask = collect(Bool,get_isboundary_face(topo,D-1))\n",
    "#fluid_outer_boundary_mask = get_face_mask(labeling,\"boundary\",D-1)\n",
    "#fluid_interface_mask = collect(Bool,fluid_boundary_mask .!= fluid_outer_boundary_mask)\n",
    "#trian_Γi = BoundaryTriangulation(model_fluid,fluid_interface_mask)"
   ]
  },
  {
   "cell_type": "code",
   "execution_count": 3,
   "id": "abb40252-f03f-4eff-965e-f00800842dc7",
   "metadata": {},
   "outputs": [
    {
     "data": {
      "text/plain": [
       "3-element Vector{Vector{String}}:\n",
       " [\"testGrid1_0.vtu\"]\n",
       " [\"testGrid1_1.vtu\"]\n",
       " [\"testGrid1_2.vtu\"]"
      ]
     },
     "execution_count": 3,
     "metadata": {},
     "output_type": "execute_result"
    }
   ],
   "source": [
    "writevtk(model,\"testGrid1\")"
   ]
  },
  {
   "cell_type": "code",
   "execution_count": 52,
   "id": "531d09fc-ceda-407a-b33e-81cd7a1603e9",
   "metadata": {},
   "outputs": [
    {
     "data": {
      "text/plain": [
       "TrialFESpace()"
      ]
     },
     "execution_count": 52,
     "metadata": {},
     "output_type": "execute_result"
    }
   ],
   "source": [
    "f(x) = 2 - (x[1])\n",
    "g(x) = 0\n",
    "\n",
    "order = 1\n",
    "reffe = ReferenceFE(lagrangian,Float64,order)\n",
    "V0 = TestFESpace(model,reffe,conformity=:H1, dirichlet_tags=\"boundary\")\n",
    "U = TrialFESpace(V0, 0)"
   ]
  },
  {
   "cell_type": "code",
   "execution_count": 53,
   "id": "b8875591-7d5e-449f-81d5-3bd4770bdccf",
   "metadata": {},
   "outputs": [
    {
     "data": {
      "text/plain": [
       "b (generic function with 1 method)"
      ]
     },
     "execution_count": 53,
     "metadata": {},
     "output_type": "execute_result"
    }
   ],
   "source": [
    "a(u,v) = ∫( ∇(v) ⋅ ∇(u) ) * dΩ\n",
    "\n",
    "b(v) = ∫( v * f ) * dΩ"
   ]
  },
  {
   "cell_type": "code",
   "execution_count": 54,
   "id": "c49e565b-8702-4b24-91d7-dae06831d541",
   "metadata": {},
   "outputs": [
    {
     "data": {
      "text/plain": [
       "SingleFieldFEFunction():\n",
       " num_cells: 100\n",
       " DomainStyle: ReferenceDomain()\n",
       " Triangulation: BodyFittedTriangulation()\n",
       " Triangulation id: 6050267299945715588"
      ]
     },
     "execution_count": 54,
     "metadata": {},
     "output_type": "execute_result"
    }
   ],
   "source": [
    "op = AffineFEOperator(a,b,U,V0)\n",
    "\n",
    "ls = LUSolver()\n",
    "solver = LinearFESolver(ls)\n",
    "\n",
    "uh = solve(op)"
   ]
  },
  {
   "cell_type": "code",
   "execution_count": null,
   "id": "74ce6812-370a-4eec-a5f1-d5ff5e98ae4e",
   "metadata": {},
   "outputs": [],
   "source": []
  },
  {
   "cell_type": "code",
   "execution_count": 55,
   "id": "d8794dbc-82b7-4457-92ee-97912c06e029",
   "metadata": {},
   "outputs": [
    {
     "data": {
      "text/plain": [
       "([\"TestSol.vtu\"],)"
      ]
     },
     "execution_count": 55,
     "metadata": {},
     "output_type": "execute_result"
    }
   ],
   "source": [
    "writevtk(Ω,\"TestSol\",cellfields=[\"uh\"=>uh])"
   ]
  },
  {
   "cell_type": "code",
   "execution_count": null,
   "id": "8dc102f9-73ec-428b-a80c-83a9570c975c",
   "metadata": {},
   "outputs": [],
   "source": [
    "?collect"
   ]
  }
 ],
 "metadata": {
  "kernelspec": {
   "display_name": "Julia 1.10.0",
   "language": "julia",
   "name": "julia-1.10"
  },
  "language_info": {
   "file_extension": ".jl",
   "mimetype": "application/julia",
   "name": "julia",
   "version": "1.10.0"
  }
 },
 "nbformat": 4,
 "nbformat_minor": 5
}

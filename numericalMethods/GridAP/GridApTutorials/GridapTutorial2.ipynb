{
 "cells": [
  {
   "cell_type": "code",
   "execution_count": 2,
   "id": "253a76e2-282b-4479-af32-102ef8f1b882",
   "metadata": {},
   "outputs": [],
   "source": [
    "using Gridap"
   ]
  },
  {
   "cell_type": "markdown",
   "id": "006250ae-7f14-4dc4-abc6-16415cfc54a4",
   "metadata": {},
   "source": [
    "Define the problem:\n",
    "\n",
    "$$\n",
    "  \\begin{cases} \n",
    "    -\\Delta u = f & \\text{ in } \\Omega\\\\\n",
    "    u = g & \\text{ in } \\partial \\Omega\n",
    "  \\end{cases}\n",
    "$$\n",
    "\n",
    "Where $\\Omega \\subset \\mathbb{R}^2 \\text{ and } \\mathbb{R}^3$ for this example.\n",
    "\n",
    "Start with the manufactured solution $u(x) = x_1 + x_2$ and $- \\Delta u = 0$."
   ]
  },
  {
   "cell_type": "code",
   "execution_count": 26,
   "id": "3fe5748c-72c3-499e-b2aa-40200e316652",
   "metadata": {},
   "outputs": [
    {
     "data": {
      "text/plain": [
       "f (generic function with 1 method)"
      ]
     },
     "execution_count": 26,
     "metadata": {},
     "output_type": "execute_result"
    }
   ],
   "source": [
    "u(x) = x[1] + x[2]\n",
    "f(x) = 0"
   ]
  },
  {
   "cell_type": "markdown",
   "id": "7185654f-d653-4917-9066-8c8be810db24",
   "metadata": {},
   "source": [
    "Give gradient of $u$ the exact value of the gradient of $u$."
   ]
  },
  {
   "cell_type": "code",
   "execution_count": 4,
   "id": "43353250-bd2e-4347-9d98-2dc5f7e39b05",
   "metadata": {},
   "outputs": [
    {
     "data": {
      "text/plain": [
       "∇u (generic function with 1 method)"
      ]
     },
     "execution_count": 4,
     "metadata": {},
     "output_type": "execute_result"
    }
   ],
   "source": [
    "∇u(x) = VectorValue(1,1)"
   ]
  },
  {
   "cell_type": "markdown",
   "id": "daed90f7-c986-460b-98e5-8e94bbd63ee3",
   "metadata": {},
   "source": [
    "Tell GridAp that the gradient of $u$ is the specified value."
   ]
  },
  {
   "cell_type": "code",
   "execution_count": 29,
   "id": "3015bbf0-33f4-48cd-ba16-f44f3a570469",
   "metadata": {},
   "outputs": [
    {
     "data": {
      "text/plain": [
       "gradient (generic function with 34 methods)"
      ]
     },
     "execution_count": 29,
     "metadata": {},
     "output_type": "execute_result"
    }
   ],
   "source": [
    "import Gridap: ∇\n",
    "∇(::typeof(u)) = ∇u"
   ]
  },
  {
   "cell_type": "code",
   "execution_count": 31,
   "id": "796a4677-f3a4-4141-b490-c516fa7698e1",
   "metadata": {},
   "outputs": [
    {
     "data": {
      "text/plain": [
       "true"
      ]
     },
     "execution_count": 31,
     "metadata": {},
     "output_type": "execute_result"
    }
   ],
   "source": [
    "∇(u) === ∇u"
   ]
  },
  {
   "cell_type": "markdown",
   "id": "42519e9d-0442-485e-8115-4379858d4298",
   "metadata": {},
   "source": [
    "Set up the domain for the problem in 2D and give a quadrilateral partition to it. Set up GridAPs internal model."
   ]
  },
  {
   "cell_type": "code",
   "execution_count": 7,
   "id": "087c6ea3-969b-4f70-ac8d-ecfbb0e2168c",
   "metadata": {},
   "outputs": [
    {
     "data": {
      "text/plain": [
       "CartesianDiscreteModel()"
      ]
     },
     "execution_count": 7,
     "metadata": {},
     "output_type": "execute_result"
    }
   ],
   "source": [
    "domain = (0,1,0,1)\n",
    "partition = (4,4)\n",
    "model = CartesianDiscreteModel(domain,partition)"
   ]
  },
  {
   "cell_type": "markdown",
   "id": "905b7ec7-d3bf-4cdf-9aa6-67e9b6892e8b",
   "metadata": {},
   "source": [
    "Set up domain and model for the 3D problem."
   ]
  },
  {
   "cell_type": "code",
   "execution_count": 8,
   "id": "150e00d8-77b9-4d57-ac84-8d5e759e056f",
   "metadata": {},
   "outputs": [
    {
     "data": {
      "text/plain": [
       "CartesianDiscreteModel()"
      ]
     },
     "execution_count": 8,
     "metadata": {},
     "output_type": "execute_result"
    }
   ],
   "source": [
    "domain3d = (0,1,0,1,0,1)\n",
    "partition3d = (4,4,4)\n",
    "model3d = CartesianDiscreteModel(domain3d,partition3d)"
   ]
  },
  {
   "cell_type": "code",
   "execution_count": 9,
   "id": "f0fb6b84-896e-49ef-91dc-7ddc7bac8f12",
   "metadata": {},
   "outputs": [
    {
     "data": {
      "text/plain": [
       "3-element Vector{Vector{String}}:\n",
       " [\"model_0.vtu\"]\n",
       " [\"model_1.vtu\"]\n",
       " [\"model_2.vtu\"]"
      ]
     },
     "execution_count": 9,
     "metadata": {},
     "output_type": "execute_result"
    }
   ],
   "source": [
    "writevtk(model,\"model\")"
   ]
  },
  {
   "cell_type": "markdown",
   "id": "5e73e7c5-4a3a-4b39-830b-827743415b1a",
   "metadata": {},
   "source": [
    "Set up the function spaces, first order lagrangian spaces, then set up the test and trial spaces.\n",
    "\n",
    "Next set the integration triangulation of the domain and the measure size of areas of domain partitions.\n",
    "\n",
    "Integrate these to set up the linear system.\n",
    "\n",
    "Solve the linear system."
   ]
  },
  {
   "cell_type": "code",
   "execution_count": 10,
   "id": "0b7877e7-167c-4902-af2e-6f6e9954506a",
   "metadata": {},
   "outputs": [
    {
     "data": {
      "text/plain": [
       "SingleFieldFEFunction():\n",
       " num_cells: 16\n",
       " DomainStyle: ReferenceDomain()\n",
       " Triangulation: BodyFittedTriangulation()\n",
       " Triangulation id: 280879764868874896"
      ]
     },
     "execution_count": 10,
     "metadata": {},
     "output_type": "execute_result"
    }
   ],
   "source": [
    "order = 1\n",
    "reffe = ReferenceFE(lagrangian,Float64,order)\n",
    "V0 = TestFESpace(model,reffe,conformity=:H1,dirichlet_tags=\"boundary\")\n",
    "U = TrialFESpace(V0,u)\n",
    "\n",
    "degree = 2\n",
    "Ω = Triangulation(model)\n",
    "dΩ = Measure(Ω,degree)\n",
    "\n",
    "a(u,v) = ∫( ∇(v)⊙∇(u) )*dΩ\n",
    "b(v) = ∫( v*f )*dΩ\n",
    "\n",
    "op = AffineFEOperator(a,b,U,V0)\n",
    "\n",
    "uh = solve(op)"
   ]
  },
  {
   "cell_type": "markdown",
   "id": "a49929c9-6c37-4d25-82a2-caad28d875f3",
   "metadata": {},
   "source": [
    "Set function to calculate the area"
   ]
  },
  {
   "cell_type": "code",
   "execution_count": 32,
   "id": "b61a19ec-9194-41ec-a1b7-08503124aedc",
   "metadata": {},
   "outputs": [
    {
     "data": {
      "text/plain": [
       "OperationCellField():\n",
       " num_cells: 16\n",
       " DomainStyle: ReferenceDomain()\n",
       " Triangulation: BodyFittedTriangulation()\n",
       " Triangulation id: 280879764868874896"
      ]
     },
     "execution_count": 32,
     "metadata": {},
     "output_type": "execute_result"
    }
   ],
   "source": [
    "e = u - uh"
   ]
  },
  {
   "cell_type": "code",
   "execution_count": 12,
   "id": "55781cfa-2502-4a78-8daa-7ac7605632e0",
   "metadata": {},
   "outputs": [
    {
     "data": {
      "text/plain": [
       "([\"error.vtu\"],)"
      ]
     },
     "execution_count": 12,
     "metadata": {},
     "output_type": "execute_result"
    }
   ],
   "source": [
    "writevtk(Ω,\"error\",cellfields=[\"e\" => e])"
   ]
  },
  {
   "cell_type": "markdown",
   "id": "bb9c7345-7f10-426a-9098-cfca330d5ffa",
   "metadata": {},
   "source": [
    "Calculate the $L2$ and $H1$ norms of the error."
   ]
  },
  {
   "cell_type": "code",
   "execution_count": 13,
   "id": "a80beb59-23dc-4ba2-a074-42c8ba1b7776",
   "metadata": {},
   "outputs": [
    {
     "data": {
      "text/plain": [
       "1.0241643448331112e-15"
      ]
     },
     "execution_count": 13,
     "metadata": {},
     "output_type": "execute_result"
    }
   ],
   "source": [
    "el2 = sqrt(sum( ∫( e*e )*dΩ ))\n",
    "eh1 = sqrt(sum( ∫( e*e + ∇(e)⋅∇(e) )*dΩ ))"
   ]
  },
  {
   "cell_type": "code",
   "execution_count": 14,
   "id": "b9908eab-239d-46ca-b406-18a56f698eb5",
   "metadata": {},
   "outputs": [],
   "source": [
    "tol = 1.e-10\n",
    "@assert el2 < tol\n",
    "@assert eh1 < tol"
   ]
  },
  {
   "cell_type": "markdown",
   "id": "8a96d619-1a68-4798-a51b-1c7be23f7e8e",
   "metadata": {},
   "source": [
    "Set up the problem with a polynomial solution of order $p$, 2 in this case."
   ]
  },
  {
   "cell_type": "code",
   "execution_count": 34,
   "id": "fd1b01e1-1102-40e1-94a4-af9f554d96b6",
   "metadata": {},
   "outputs": [
    {
     "data": {
      "text/plain": [
       "f (generic function with 1 method)"
      ]
     },
     "execution_count": 34,
     "metadata": {},
     "output_type": "execute_result"
    }
   ],
   "source": [
    "p = 3\n",
    "u(x) = x[1]^p+x[2]^p\n",
    "∇u(x) = VectorValue(p*x[1]^(p-1),p*x[2]^(p-1))\n",
    "f(x) = -p*(p-1)*(x[1]^(p-2)+x[2]^(p-2))"
   ]
  },
  {
   "cell_type": "markdown",
   "id": "d2c43011-d083-41ec-87bb-1854496bcf62",
   "metadata": {},
   "source": [
    "Same as before"
   ]
  },
  {
   "cell_type": "code",
   "execution_count": 16,
   "id": "3ff1d30c-da17-4f74-ab03-5f09f0e9538f",
   "metadata": {},
   "outputs": [
    {
     "data": {
      "text/plain": [
       "b (generic function with 1 method)"
      ]
     },
     "execution_count": 16,
     "metadata": {},
     "output_type": "execute_result"
    }
   ],
   "source": [
    "∇(::typeof(u)) = ∇u\n",
    "b(v) = ∫( v*f )*dΩ"
   ]
  },
  {
   "cell_type": "markdown",
   "id": "d49142d1-aa3f-4fe8-ab0b-689a21328131",
   "metadata": {},
   "source": [
    "Run problem with the domain split into $n \\times n$ boxes and order $k$ polynomials on the domain"
   ]
  },
  {
   "cell_type": "code",
   "execution_count": 35,
   "id": "0b6440a0-ab4b-4aaa-91be-b9a3ab46912b",
   "metadata": {},
   "outputs": [
    {
     "data": {
      "text/plain": [
       "run (generic function with 1 method)"
      ]
     },
     "execution_count": 35,
     "metadata": {},
     "output_type": "execute_result"
    }
   ],
   "source": [
    "function run(n,k)\n",
    "\n",
    "  domain = (0,1,0,1)\n",
    "  partition = (n,n)\n",
    "  model = CartesianDiscreteModel(domain,partition)\n",
    "\n",
    "  reffe = ReferenceFE(lagrangian,Float64,k)\n",
    "  V0 = TestFESpace(model,reffe,conformity=:H1,dirichlet_tags=\"boundary\")\n",
    "  U = TrialFESpace(V0,u)\n",
    "\n",
    "  degree = 2*p\n",
    "  Ω = Triangulation(model)\n",
    "  dΩ = Measure(Ω,degree)\n",
    "\n",
    "  a(u,v) = ∫( ∇(v)⊙∇(u) )*dΩ\n",
    "  b(v) = ∫( v*f )*dΩ\n",
    "\n",
    "  op = AffineFEOperator(a,b,U,V0)\n",
    "\n",
    "  uh = solve(op)\n",
    "\n",
    "  e = u - uh\n",
    "\n",
    "  el2 = sqrt(sum( ∫( e*e )*dΩ ))\n",
    "  eh1 = sqrt(sum( ∫( e*e + ∇(e)⋅∇(e) )*dΩ ))\n",
    "\n",
    "  (el2, eh1)\n",
    "\n",
    "end"
   ]
  },
  {
   "cell_type": "markdown",
   "id": "7a2ba360-aa5a-4201-bda1-90901f81801f",
   "metadata": {},
   "source": [
    "Function for convergence test, give a set of $n$s for the number of quads in the domain partition, and $k$ the order of the polynomial spaces."
   ]
  },
  {
   "cell_type": "code",
   "execution_count": 18,
   "id": "4cc765ea-e19d-4ab2-8ca8-ed1ec7335044",
   "metadata": {},
   "outputs": [
    {
     "data": {
      "text/plain": [
       "conv_test (generic function with 1 method)"
      ]
     },
     "execution_count": 18,
     "metadata": {},
     "output_type": "execute_result"
    }
   ],
   "source": [
    "function conv_test(ns,k)\n",
    "\n",
    "  el2s = Float64[]\n",
    "  eh1s = Float64[]\n",
    "  hs = Float64[]\n",
    "\n",
    "  for n in ns\n",
    "\n",
    "    el2, eh1 = run(n,k)\n",
    "    h = 1.0/n\n",
    "\n",
    "    push!(el2s,el2)\n",
    "    push!(eh1s,eh1)\n",
    "    push!(hs,h)\n",
    "\n",
    "  end\n",
    "\n",
    "  (el2s, eh1s, hs)\n",
    "\n",
    "end"
   ]
  },
  {
   "cell_type": "markdown",
   "id": "bbc44498-b726-4695-8156-e784304ecdd5",
   "metadata": {},
   "source": [
    "Get the errors and mesh parameter for the partitions."
   ]
  },
  {
   "cell_type": "code",
   "execution_count": 19,
   "id": "3d00d85d-77f8-4ea0-b210-ac877c691f94",
   "metadata": {},
   "outputs": [],
   "source": [
    "el2s1, eh1s1, hs = conv_test([8,16,32,64,128],1);\n",
    "el2s2, eh1s2, hs = conv_test([8,16,32,64,128],2);\n",
    "nothing #hide"
   ]
  },
  {
   "cell_type": "markdown",
   "id": "98aec986-563f-46bf-9851-eaccf4e8ab1b",
   "metadata": {},
   "source": [
    "Get slope of graph for linear regression fit of errors against mesh parameter."
   ]
  },
  {
   "cell_type": "code",
   "execution_count": 20,
   "id": "a5870ffa-1f39-47ce-82ae-f68c4ec3b89b",
   "metadata": {},
   "outputs": [
    {
     "data": {
      "text/plain": [
       "slope (generic function with 1 method)"
      ]
     },
     "execution_count": 20,
     "metadata": {},
     "output_type": "execute_result"
    }
   ],
   "source": [
    "function slope(hs,errors)\n",
    "  x = log10.(hs)\n",
    "  y = log10.(errors)\n",
    "  linreg = hcat(fill!(similar(x), 1), x) \\ y\n",
    "  linreg[2]\n",
    "end"
   ]
  },
  {
   "cell_type": "markdown",
   "id": "27bc1cd3-89a3-4e85-a6a1-bea2e2cc9fc7",
   "metadata": {},
   "source": [
    "Print out slopes"
   ]
  },
  {
   "cell_type": "code",
   "execution_count": 21,
   "id": "e1758bc0-be73-49d4-9605-cf0895c7badc",
   "metadata": {},
   "outputs": [
    {
     "data": {
      "text/plain": [
       "3.0000000002129363"
      ]
     },
     "execution_count": 21,
     "metadata": {},
     "output_type": "execute_result"
    }
   ],
   "source": [
    "slope(hs,el2s1)\n",
    "slope(hs,el2s2)"
   ]
  },
  {
   "cell_type": "code",
   "execution_count": 22,
   "id": "4f603e58-3ad8-4abb-8598-502d932a7a79",
   "metadata": {},
   "outputs": [
    {
     "data": {
      "text/plain": [
       "2.0000597414736574"
      ]
     },
     "execution_count": 22,
     "metadata": {},
     "output_type": "execute_result"
    }
   ],
   "source": [
    "slope(hs,eh1s1)slope(hs,eh1s1)\n",
    "slope(hs,eh1s2)\n",
    "slope(hs,eh1s2)"
   ]
  }
 ],
 "metadata": {
  "kernelspec": {
   "display_name": "Julia 1.10.0",
   "language": "julia",
   "name": "julia-1.10"
  },
  "language_info": {
   "file_extension": ".jl",
   "mimetype": "application/julia",
   "name": "julia",
   "version": "1.10.0"
  }
 },
 "nbformat": 4,
 "nbformat_minor": 5
}

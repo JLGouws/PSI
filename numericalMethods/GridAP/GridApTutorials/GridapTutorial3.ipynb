{
 "cells": [
  {
   "cell_type": "code",
   "execution_count": 4,
   "id": "23cf28c1-0ae7-4f0d-902c-9a45186a334c",
   "metadata": {},
   "outputs": [
    {
     "data": {
      "text/plain": [
       "UnstructuredDiscreteModel()"
      ]
     },
     "execution_count": 4,
     "metadata": {},
     "output_type": "execute_result"
    }
   ],
   "source": [
    "using Gridap\n",
    "model = DiscreteModelFromFile(\"solid.json\")"
   ]
  },
  {
   "cell_type": "markdown",
   "id": "09e4facf-0f73-4619-97f5-324edc267d21",
   "metadata": {},
   "source": [
    "Create a vector valued FE space"
   ]
  },
  {
   "cell_type": "code",
   "execution_count": 5,
   "id": "3e8216eb-a2d2-43ef-9ea3-6ffe32f127d4",
   "metadata": {},
   "outputs": [
    {
     "data": {
      "text/plain": [
       "UnconstrainedFESpace()"
      ]
     },
     "execution_count": 5,
     "metadata": {},
     "output_type": "execute_result"
    }
   ],
   "source": [
    "order = 1\n",
    "\n",
    "reffe = ReferenceFE(lagrangian,VectorValue{3,Float64},order)\n",
    "V0 = TestFESpace(model,reffe;\n",
    "  conformity=:H1,\n",
    "  dirichlet_tags=[\"surface_1\",\"surface_2\"],\n",
    "  dirichlet_masks=[(true,false,false), (true,true,true)])"
   ]
  },
  {
   "cell_type": "code",
   "execution_count": 6,
   "id": "54b85634-4df6-447a-b8b9-e3c326903578",
   "metadata": {},
   "outputs": [
    {
     "data": {
      "text/plain": [
       "g2 (generic function with 1 method)"
      ]
     },
     "execution_count": 6,
     "metadata": {},
     "output_type": "execute_result"
    }
   ],
   "source": [
    "g1(x) = VectorValue(0.005,0.0,0.0)\n",
    "g2(x) = VectorValue(0.0,0.0,0.0)"
   ]
  },
  {
   "cell_type": "code",
   "execution_count": 7,
   "id": "cb216159-a896-4106-95ac-ca855ab9bf71",
   "metadata": {},
   "outputs": [
    {
     "data": {
      "text/plain": [
       "TrialFESpace()"
      ]
     },
     "execution_count": 7,
     "metadata": {},
     "output_type": "execute_result"
    }
   ],
   "source": [
    "U = TrialFESpace(V0,[g1,g2])"
   ]
  },
  {
   "cell_type": "code",
   "execution_count": 8,
   "id": "b7b809c8-66a7-458d-9a88-7fe6ac225fad",
   "metadata": {},
   "outputs": [
    {
     "data": {
      "text/plain": [
       "σ (generic function with 1 method)"
      ]
     },
     "execution_count": 8,
     "metadata": {},
     "output_type": "execute_result"
    }
   ],
   "source": [
    "const E = 70.0e9\n",
    "const ν = 0.33\n",
    "const λ = (E*ν)/((1+ν)*(1-2*ν))\n",
    "const μ = E/(2*(1+ν))\n",
    "σ(ε) = λ*tr(ε)*one(ε) + 2*μ*ε"
   ]
  },
  {
   "cell_type": "code",
   "execution_count": 9,
   "id": "d9f12a28-f98a-467c-a21f-b102cfc818a0",
   "metadata": {},
   "outputs": [
    {
     "data": {
      "text/plain": [
       "GenericMeasure()"
      ]
     },
     "execution_count": 9,
     "metadata": {},
     "output_type": "execute_result"
    }
   ],
   "source": [
    "degree = 2*order\n",
    "Ω = Triangulation(model)\n",
    "dΩ = Measure(Ω,degree)"
   ]
  },
  {
   "cell_type": "code",
   "execution_count": 10,
   "id": "f2f7abe1-e682-4d29-89fd-e6b9f6d41ed6",
   "metadata": {},
   "outputs": [
    {
     "data": {
      "text/plain": [
       "l (generic function with 1 method)"
      ]
     },
     "execution_count": 10,
     "metadata": {},
     "output_type": "execute_result"
    }
   ],
   "source": [
    "a(u,v) = ∫( ε(v) ⊙ (σ∘ε(u)) )*dΩ\n",
    "l(v) = 0"
   ]
  },
  {
   "cell_type": "code",
   "execution_count": 11,
   "id": "4af4899b-6787-4995-b8b3-2707baf2d172",
   "metadata": {},
   "outputs": [
    {
     "data": {
      "text/plain": [
       "SingleFieldFEFunction():\n",
       " num_cells: 40144\n",
       " DomainStyle: ReferenceDomain()\n",
       " Triangulation: BodyFittedTriangulation()\n",
       " Triangulation id: 7318335612648311554"
      ]
     },
     "execution_count": 11,
     "metadata": {},
     "output_type": "execute_result"
    }
   ],
   "source": [
    "op = AffineFEOperator(a,l,U,V0)\n",
    "uh = solve(op)"
   ]
  },
  {
   "cell_type": "code",
   "execution_count": null,
   "id": "5b9e908f-b88f-4de2-bf18-feb222dd07cb",
   "metadata": {},
   "outputs": [],
   "source": [
    "writevtk(Ω,\"results\",cellfields=[\"uh\"=>uh,\"epsi\"=>ε(uh),\"sigma\"=>σ∘ε(uh)])"
   ]
  },
  {
   "cell_type": "code",
   "execution_count": null,
   "id": "ed0f64ce-d47b-4c09-88f8-30d42a3f1097",
   "metadata": {},
   "outputs": [],
   "source": [
    "using Gridap.Geometry\n",
    "labels = get_face_labeling(model)\n",
    "dimension = 3\n",
    "tags = get_face_tag(labels,dimension)"
   ]
  },
  {
   "cell_type": "code",
   "execution_count": null,
   "id": "361487d6-f001-4591-87db-c8ee53a53b48",
   "metadata": {},
   "outputs": [],
   "source": [
    "const alu_tag = get_tag_from_name(labels,\"material_1\")"
   ]
  },
  {
   "cell_type": "markdown",
   "id": "901bd3f1-d52a-4043-a758-5e264c26e170",
   "metadata": {},
   "source": [
    "Define a function that calculates the lame parameters for the material"
   ]
  },
  {
   "cell_type": "code",
   "execution_count": null,
   "id": "51a918f2-2aba-4be8-82ea-394334d9d20f",
   "metadata": {},
   "outputs": [],
   "source": [
    "function lame_parameters(E,ν)\n",
    "  λ = (E*ν)/((1+ν)*(1-2*ν))\n",
    "  μ = E/(2*(1+ν))\n",
    "  (λ, μ)\n",
    "end\n",
    "\n",
    "const E_alu = 70.0e9\n",
    "const ν_alu = 0.33\n",
    "const (λ_alu,μ_alu) = lame_parameters(E_alu,ν_alu)\n",
    "\n",
    "const E_steel = 200.0e9\n",
    "const ν_steel = 0.33\n",
    "const (λ_steel,μ_steel) = lame_parameters(E_steel,ν_steel)"
   ]
  },
  {
   "cell_type": "markdown",
   "id": "29acf996-26e0-4668-9df7-2e47c98fec78",
   "metadata": {},
   "source": [
    "Define a function that gives the materials properties, depending on where it is."
   ]
  },
  {
   "cell_type": "code",
   "execution_count": null,
   "id": "998ca606-b1ba-4547-9f45-c0f532bb1498",
   "metadata": {},
   "outputs": [],
   "source": [
    "function σ_bimat(ε,tag)\n",
    "  if tag == alu_tag\n",
    "    return λ_alu*tr(ε)*one(ε) + 2*μ_alu*ε\n",
    "  else\n",
    "    return λ_steel*tr(ε)*one(ε) + 2*μ_steel*ε\n",
    "  end\n",
    "end"
   ]
  },
  {
   "cell_type": "code",
   "execution_count": null,
   "id": "7ecc0d4c-a789-4453-a089-b786272d989d",
   "metadata": {},
   "outputs": [],
   "source": [
    "a(u,v) = ∫( ε(v) ⊙ (σ_bimat∘(ε(u),tags)) )*dΩ"
   ]
  },
  {
   "cell_type": "code",
   "execution_count": null,
   "id": "488e2d54-7821-44e9-835a-65ec48257a6b",
   "metadata": {},
   "outputs": [],
   "source": [
    "op = AffineFEOperator(a,l,U,V0)\n",
    "uh = solve(op)"
   ]
  },
  {
   "cell_type": "code",
   "execution_count": null,
   "id": "0e6cc988-7545-41d8-b499-f683717c1bb8",
   "metadata": {},
   "outputs": [],
   "source": [
    "writevtk(Ω,\"results_bimat\",cellfields=\n",
    "  [\"uh\"=>uh,\"epsi\"=>ε(uh),\"sigma\"=>σ_bimat∘(ε(uh),tags)])"
   ]
  }
 ],
 "metadata": {
  "kernelspec": {
   "display_name": "Julia 1.10.0",
   "language": "julia",
   "name": "julia-1.10"
  },
  "language_info": {
   "file_extension": ".jl",
   "mimetype": "application/julia",
   "name": "julia",
   "version": "1.10.0"
  }
 },
 "nbformat": 4,
 "nbformat_minor": 5
}

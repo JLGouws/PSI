{
 "cells": [
  {
   "cell_type": "code",
   "execution_count": 2,
   "id": "cd9a0cf5-0d95-4178-8171-51a9d0af7fbe",
   "metadata": {},
   "outputs": [],
   "source": [
    "using Gridap"
   ]
  },
  {
   "cell_type": "code",
   "execution_count": 11,
   "id": "fe6c5298-ee8d-42a2-b86d-421e6f13aee5",
   "metadata": {},
   "outputs": [
    {
     "name": "stdout",
     "output_type": "stream",
     "text": [
      "(-0.5, -0.5)\n",
      "Bool[(-0.5, -0.5)\n",
      "(-0.5, -0.5)\n",
      "0 (-0.5, 0.5)\n",
      "(-0.5, 0.5)\n",
      "0; (0.5, -0.5)\n",
      "(0.5, -0.5)\n",
      "0 (0.5, 0.5)\n",
      "(0.5, 0.5)\n",
      "0]\n",
      "(-0.5, -0.5)\n",
      "(0.5, -0.5)\n",
      "(-0.5, 0.5)\n",
      "(0.5, 0.5)\n",
      "Bool[0 0; 0 0]\n"
     ]
    },
    {
     "ename": "LoadError",
     "evalue": "MethodError: no method matching DiscreteModel(::CartesianDiscreteModel{2, Float64, typeof(identity)}, ::Vector{CartesianIndex{2}})\n\n\u001b[0mClosest candidates are:\n\u001b[0m  DiscreteModel(::Gridap.Geometry.Grid, \u001b[91m::Gridap.Geometry.GridTopology\u001b[39m, \u001b[91m::Gridap.Geometry.FaceLabeling\u001b[39m)\n\u001b[0m\u001b[90m   @\u001b[39m \u001b[35mGridap\u001b[39m \u001b[90m~/.julia/packages/Gridap/I60jU/src/Geometry/\u001b[39m\u001b[90m\u001b[4mDiscreteModels.jl:438\u001b[24m\u001b[39m\n",
     "output_type": "error",
     "traceback": [
      "MethodError: no method matching DiscreteModel(::CartesianDiscreteModel{2, Float64, typeof(identity)}, ::Vector{CartesianIndex{2}})\n\n\u001b[0mClosest candidates are:\n\u001b[0m  DiscreteModel(::Gridap.Geometry.Grid, \u001b[91m::Gridap.Geometry.GridTopology\u001b[39m, \u001b[91m::Gridap.Geometry.FaceLabeling\u001b[39m)\n\u001b[0m\u001b[90m   @\u001b[39m \u001b[35mGridap\u001b[39m \u001b[90m~/.julia/packages/Gridap/I60jU/src/Geometry/\u001b[39m\u001b[90m\u001b[4mDiscreteModels.jl:438\u001b[24m\u001b[39m\n",
      "",
      "Stacktrace:",
      " [1] top-level scope",
      "   @ In[11]:23"
     ]
    }
   ],
   "source": [
    "n_m = 2\n",
    "# Discrete model\n",
    "domain = (-1,1,-1,1)\n",
    "partition = (n_m,n_m)\n",
    "model = CartesianDiscreteModel(domain,partition)\n",
    "trian = Triangulation(model)\n",
    "R = 0.5\n",
    "function is_in(coords)\n",
    "        n = length(coords)\n",
    "        x = (1/n)*sum(coords)\n",
    "        println(x)\n",
    "        d = x[1]^2 + x[2]^2 - R^2\n",
    "        d < 0\n",
    "end\n",
    "oldcell_to_coods = get_cell_coordinates(trian)\n",
    "a = lazy_map(is_in,oldcell_to_coods)\n",
    "\n",
    "println(a)\n",
    "oldcell_to_is_in = [b for b in a]\n",
    "incell_to_cell = findall(oldcell_to_is_in)\n",
    "outcell_to_cell = findall(collect(Bool, .! oldcell_to_is_in))\n",
    "println(oldcell_to_is_in)\n",
    "model_solid = DiscreteModel(model,incell_to_cell)\n",
    "model_fluid = DiscreteModel(model,outcell_to_cell)\n",
    "\n",
    "# Triangulations\n",
    "trian_solid = Triangulation(model_solid)\n",
    "trian_fluid = Triangulation(model_fluid)\n",
    "\n",
    "# Construct boundary triangulation at the fluid-solid interface\n",
    "topo = get_grid_topology(model_fluid)\n",
    "labeling = get_face_labeling(model_fluid)\n",
    "D = num_cell_dims(model_fluid)\n",
    "fluid_boundary_mask = collect(Bool,get_isboundary_face(topo,D-1))\n",
    "fluid_outer_boundary_mask = get_face_mask(labeling,\"boundary\",D-1)\n",
    "fluid_interface_mask = collect(Bool,fluid_boundary_mask .!= fluid_outer_boundary_mask)\n",
    "trian_Γi = BoundaryTriangulation(model_fluid,fluid_interface_mask)"
   ]
  },
  {
   "cell_type": "code",
   "execution_count": null,
   "id": "37f5df74-9598-4ffe-a29a-66e2f953677e",
   "metadata": {},
   "outputs": [],
   "source": []
  }
 ],
 "metadata": {
  "kernelspec": {
   "display_name": "Julia 1.10.0",
   "language": "julia",
   "name": "julia-1.10"
  },
  "language_info": {
   "file_extension": ".jl",
   "mimetype": "application/julia",
   "name": "julia",
   "version": "1.10.0"
  }
 },
 "nbformat": 4,
 "nbformat_minor": 5
}

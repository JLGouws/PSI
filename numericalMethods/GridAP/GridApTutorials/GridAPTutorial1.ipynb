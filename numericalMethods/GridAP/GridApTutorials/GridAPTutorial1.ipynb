{
 "cells": [
  {
   "cell_type": "markdown",
   "id": "9ce23a06-4294-4bb3-a085-9df26d406c6a",
   "metadata": {},
   "source": [
    "# GridAp Tutorial 1\n",
    "\n",
    "First import GridAp"
   ]
  },
  {
   "cell_type": "code",
   "execution_count": 14,
   "id": "7abf8c24-a230-4c9c-857a-9b70c297586b",
   "metadata": {},
   "outputs": [],
   "source": [
    "using Gridap"
   ]
  },
  {
   "cell_type": "markdown",
   "id": "a15864ac-9203-46f8-8660-17217bd2930c",
   "metadata": {},
   "source": [
    "Load in model (spatial grid mesh) from JSON file. The mesh is created by GMSH http://gmsh.info/"
   ]
  },
  {
   "cell_type": "code",
   "execution_count": 15,
   "id": "b9814396-a464-4c8b-812f-c51d6bb4eda3",
   "metadata": {},
   "outputs": [
    {
     "data": {
      "text/plain": [
       "UnstructuredDiscreteModel()"
      ]
     },
     "execution_count": 15,
     "metadata": {},
     "output_type": "execute_result"
    }
   ],
   "source": [
    "model = DiscreteModelFromFile(\"model.json\")"
   ]
  },
  {
   "cell_type": "markdown",
   "id": "9d9b5595-1fb3-4295-ae23-4a8c54ab9d3f",
   "metadata": {},
   "source": [
    "Create Test space (1st order standard Lagrange Conforming test space)"
   ]
  },
  {
   "cell_type": "code",
   "execution_count": 16,
   "id": "7c4b4104-e6cb-4538-bcfd-713a7a165ec1",
   "metadata": {},
   "outputs": [
    {
     "data": {
      "text/plain": [
       "UnconstrainedFESpace()"
      ]
     },
     "execution_count": 16,
     "metadata": {},
     "output_type": "execute_result"
    }
   ],
   "source": [
    "order = 1\n",
    "reffe = ReferenceFE(lagrangian,Float64,order)\n",
    "V0 = TestFESpace(model,reffe;conformity=:H1,dirichlet_tags=\"sides\")"
   ]
  },
  {
   "cell_type": "markdown",
   "id": "a5f2d974-bb48-4f72-9934-3ddbd4378060",
   "metadata": {},
   "source": [
    "Work out trial space"
   ]
  },
  {
   "cell_type": "code",
   "execution_count": 17,
   "id": "774c77c0-3219-4fe4-83be-26c707d0612c",
   "metadata": {},
   "outputs": [
    {
     "data": {
      "text/plain": [
       "TrialFESpace()"
      ]
     },
     "execution_count": 17,
     "metadata": {},
     "output_type": "execute_result"
    }
   ],
   "source": [
    "g(x) = 2.0\n",
    "Ug = TrialFESpace(V0,g)"
   ]
  },
  {
   "cell_type": "markdown",
   "id": "3d5fed52-2967-4bb4-ad1f-5da87d4dfbef",
   "metadata": {},
   "source": [
    "Triangulation for integration:"
   ]
  },
  {
   "cell_type": "code",
   "execution_count": 18,
   "id": "696fe492-ba4f-4a7d-a171-9696a46b3f0f",
   "metadata": {},
   "outputs": [
    {
     "data": {
      "text/plain": [
       "GenericMeasure()"
      ]
     },
     "execution_count": 18,
     "metadata": {},
     "output_type": "execute_result"
    }
   ],
   "source": [
    "degree = 2\n",
    "Ω = Triangulation(model)\n",
    "dΩ = Measure(Ω,degree)"
   ]
  },
  {
   "cell_type": "markdown",
   "id": "3e613619-efdb-4d48-b11a-ee771bfa0fd5",
   "metadata": {},
   "source": [
    "Give boundary triangulation mesh for integration"
   ]
  },
  {
   "cell_type": "code",
   "execution_count": 19,
   "id": "8f307879-d14c-4207-87a7-8774a7da9a47",
   "metadata": {},
   "outputs": [
    {
     "data": {
      "text/plain": [
       "GenericMeasure()"
      ]
     },
     "execution_count": 19,
     "metadata": {},
     "output_type": "execute_result"
    }
   ],
   "source": [
    "neumanntags = [\"circle\", \"triangle\", \"square\"]\n",
    "Γ = BoundaryTriangulation(model,tags=neumanntags)\n",
    "dΓ = Measure(Γ,degree)"
   ]
  },
  {
   "cell_type": "markdown",
   "id": "f8a1bde8-c6b9-4545-9337-729995f21678",
   "metadata": {},
   "source": [
    "Write the problem in a week form"
   ]
  },
  {
   "cell_type": "code",
   "execution_count": 20,
   "id": "5a033b18-aec8-46b9-aa61-57bd6c80fdab",
   "metadata": {},
   "outputs": [
    {
     "data": {
      "text/plain": [
       "b (generic function with 1 method)"
      ]
     },
     "execution_count": 20,
     "metadata": {},
     "output_type": "execute_result"
    }
   ],
   "source": [
    "f(x) = 1.0\n",
    "h(x) = 3.0\n",
    "a(u,v) = ∫( ∇(v)⋅∇(u) )*dΩ\n",
    "b(v) = ∫( v*f )*dΩ + ∫( v*h )*dΓ"
   ]
  },
  {
   "cell_type": "markdown",
   "id": "632d669c-7d3b-4874-9e3a-0515586376f9",
   "metadata": {},
   "source": [
    "Greate an Affine operator acting on the spaces"
   ]
  },
  {
   "cell_type": "code",
   "execution_count": 21,
   "id": "6c4a0cf1-5126-47d0-87c7-a4cbeea62f66",
   "metadata": {},
   "outputs": [
    {
     "data": {
      "text/plain": [
       "AffineFEOperator()"
      ]
     },
     "execution_count": 21,
     "metadata": {},
     "output_type": "execute_result"
    }
   ],
   "source": [
    "op = AffineFEOperator(a,b,Ug,V0)"
   ]
  },
  {
   "cell_type": "markdown",
   "id": "a36113a1-2a09-4937-97be-6be1a92f3978",
   "metadata": {},
   "source": [
    "Create a linear solver for the linear system"
   ]
  },
  {
   "cell_type": "code",
   "execution_count": 22,
   "id": "87315234-c75a-41b7-9d38-9ec12af400ed",
   "metadata": {},
   "outputs": [
    {
     "data": {
      "text/plain": [
       "LinearFESolver()"
      ]
     },
     "execution_count": 22,
     "metadata": {},
     "output_type": "execute_result"
    }
   ],
   "source": [
    "ls = LUSolver()\n",
    "solver = LinearFESolver(ls)"
   ]
  },
  {
   "cell_type": "markdown",
   "id": "c712f344-2d63-4d1d-837b-5e2e4babc2b0",
   "metadata": {},
   "source": [
    "Solve the linear system"
   ]
  },
  {
   "cell_type": "code",
   "execution_count": 23,
   "id": "97a04e57-2751-4fd8-8892-96a818501f12",
   "metadata": {},
   "outputs": [
    {
     "data": {
      "text/plain": [
       "SingleFieldFEFunction():\n",
       " num_cells: 29160\n",
       " DomainStyle: ReferenceDomain()\n",
       " Triangulation: BodyFittedTriangulation()\n",
       " Triangulation id: 9090508546237411683"
      ]
     },
     "execution_count": 23,
     "metadata": {},
     "output_type": "execute_result"
    }
   ],
   "source": [
    "uh = solve(solver,op)"
   ]
  },
  {
   "cell_type": "markdown",
   "id": "c82ab4cf-ee02-4b9e-b8ca-d8c2066c0910",
   "metadata": {},
   "source": [
    "Output file for visualization"
   ]
  },
  {
   "cell_type": "code",
   "execution_count": 24,
   "id": "a47c6079-df22-4b69-9ed6-46d12307b8f3",
   "metadata": {},
   "outputs": [
    {
     "data": {
      "text/plain": [
       "([\"results.vtu\"],)"
      ]
     },
     "execution_count": 24,
     "metadata": {},
     "output_type": "execute_result"
    }
   ],
   "source": [
    "writevtk(Ω,\"results\",cellfields=[\"uh\"=>uh])"
   ]
  }
 ],
 "metadata": {
  "kernelspec": {
   "display_name": "Julia 1.10.0",
   "language": "julia",
   "name": "julia-1.10"
  },
  "language_info": {
   "file_extension": ".jl",
   "mimetype": "application/julia",
   "name": "julia",
   "version": "1.10.0"
  }
 },
 "nbformat": 4,
 "nbformat_minor": 5
}

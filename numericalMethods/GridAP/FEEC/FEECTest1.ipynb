{
 "cells": [
  {
   "cell_type": "code",
   "execution_count": 3,
   "id": "cd923dff-8b5e-4076-8d82-c574bcef1d92",
   "metadata": {},
   "outputs": [],
   "source": [
    "using Gridap"
   ]
  },
  {
   "cell_type": "code",
   "execution_count": 48,
   "id": "91a4c4a0-56a8-4eea-b35f-18de79ebdaba",
   "metadata": {},
   "outputs": [
    {
     "data": {
      "text/plain": [
       "CartesianDiscreteModel()"
      ]
     },
     "execution_count": 48,
     "metadata": {},
     "output_type": "execute_result"
    }
   ],
   "source": [
    "domain = (0,1,0,1)\n",
    "partition = (4,4)\n",
    "model = CartesianDiscreteModel(domain,partition)"
   ]
  },
  {
   "cell_type": "code",
   "execution_count": 49,
   "id": "3e79409c-0cbc-417c-9a85-f90d8a259536",
   "metadata": {},
   "outputs": [
    {
     "data": {
      "text/plain": [
       "UnconstrainedFESpace()"
      ]
     },
     "execution_count": 49,
     "metadata": {},
     "output_type": "execute_result"
    }
   ],
   "source": [
    "order = 1\n",
    "#SRT=ReferenceFE(lagrangian,Float64,order)#FunctionSpace(mesh,\"RT\",1) #the problem is this works but the output looks grim, and it only converges for polynomial order equal to one\n",
    "SRT = FESpace(model, ReferenceFE(raviart_thomas,Float64,order), conformity=:HDiv)\n",
    "#SRT=VectorFunctionSpace(mesh, \"CG\",1) #solution looks better if this space is used - why?\n",
    "SP = FESpace(model, ReferenceFE(lagrangian,Float64,order),conformity=:L2)\n"
   ]
  },
  {
   "cell_type": "code",
   "execution_count": 50,
   "id": "91693bfe-4eb8-462e-aa53-128278498afc",
   "metadata": {},
   "outputs": [
    {
     "data": {
      "text/plain": [
       "UnconstrainedFESpace()"
      ]
     },
     "execution_count": 50,
     "metadata": {},
     "output_type": "execute_result"
    }
   ],
   "source": [
    "U = TrialFESpace(SRT)\n",
    "V = TrialFESpace(SP)"
   ]
  },
  {
   "cell_type": "code",
   "execution_count": 51,
   "id": "091918e1-e436-4ca0-ae72-dfe5a2a11a5b",
   "metadata": {},
   "outputs": [
    {
     "data": {
      "text/plain": [
       "MultiFieldFESpace()"
      ]
     },
     "execution_count": 51,
     "metadata": {},
     "output_type": "execute_result"
    }
   ],
   "source": [
    "Y = MultiFieldFESpace([SRT, SP])\n",
    "X = MultiFieldFESpace([U, V])"
   ]
  },
  {
   "cell_type": "code",
   "execution_count": 52,
   "id": "30d9dc8b-8a69-43a9-9bf3-ba03c9c909a2",
   "metadata": {},
   "outputs": [
    {
     "data": {
      "text/plain": [
       "GenericMeasure()"
      ]
     },
     "execution_count": 52,
     "metadata": {},
     "output_type": "execute_result"
    }
   ],
   "source": [
    "trian = Triangulation(model)\n",
    "degree = 2\n",
    "dΩ = Measure(trian,degree)"
   ]
  },
  {
   "cell_type": "code",
   "execution_count": 65,
   "id": "224bc12d-14d1-4f3d-ab7c-d29c38c33f7a",
   "metadata": {},
   "outputs": [
    {
     "data": {
      "text/plain": [
       "a (generic function with 1 method)"
      ]
     },
     "execution_count": 65,
     "metadata": {},
     "output_type": "execute_result"
    }
   ],
   "source": [
    "##(trial), (test)\n",
    "a((u,σ), (v,τ)) = ∫((σ * τ) - (u ⋅ ∇(τ)) + (v ⋅ ∇(σ)) + (curl(u) ⋅ curl(v))) * dΩ#+ (v ⋅ ∇(τ))) * dΩ # + (curl(u) ⋅ curl(v))) * dΩ"
   ]
  },
  {
   "cell_type": "code",
   "execution_count": 54,
   "id": "bd76f3cb-d484-4b14-9f34-f993b55b17ef",
   "metadata": {},
   "outputs": [
    {
     "data": {
      "text/plain": [
       "GenericMeasure()"
      ]
     },
     "execution_count": 54,
     "metadata": {},
     "output_type": "execute_result"
    }
   ],
   "source": [
    "Γ = BoundaryTriangulation(model)\n",
    "dΓ = Measure(Γ,degree)"
   ]
  },
  {
   "cell_type": "code",
   "execution_count": 55,
   "id": "56975e40-e3dc-468c-828b-cd6bd6eb7e62",
   "metadata": {},
   "outputs": [
    {
     "data": {
      "text/plain": [
       "VectorValue{2, Int64}(-1, 0)"
      ]
     },
     "execution_count": 55,
     "metadata": {},
     "output_type": "execute_result"
    }
   ],
   "source": [
    "f = VectorValue(-1, 0)"
   ]
  },
  {
   "cell_type": "code",
   "execution_count": 56,
   "id": "7500d53c-5f97-445c-9454-e9415f568e8b",
   "metadata": {},
   "outputs": [
    {
     "data": {
      "text/plain": [
       "b (generic function with 1 method)"
      ]
     },
     "execution_count": 56,
     "metadata": {},
     "output_type": "execute_result"
    }
   ],
   "source": [
    "b((v,τ)) = ∫( v ⋅ f )*dΩ"
   ]
  },
  {
   "cell_type": "code",
   "execution_count": 66,
   "id": "cedb4223-56c6-440c-a1cf-99f41725b160",
   "metadata": {},
   "outputs": [
    {
     "data": {
      "text/plain": [
       "MultiFieldFEFunction():\n",
       " num_cells: 16\n",
       " DomainStyle: ReferenceDomain()\n",
       " Triangulation: BodyFittedTriangulation()\n",
       " Triangulation id: 8614691528720166933"
      ]
     },
     "execution_count": 66,
     "metadata": {},
     "output_type": "execute_result"
    }
   ],
   "source": [
    "op = AffineFEOperator(a,b,X,Y)\n",
    "xh = solve(op)\n",
    "uh, ph = xh"
   ]
  },
  {
   "cell_type": "code",
   "execution_count": null,
   "id": "638b5e70-01d8-4c00-baf6-7b0bb20e1d7a",
   "metadata": {},
   "outputs": [],
   "source": []
  }
 ],
 "metadata": {
  "kernelspec": {
   "display_name": "Julia 1.10.0",
   "language": "julia",
   "name": "julia-1.10"
  },
  "language_info": {
   "file_extension": ".jl",
   "mimetype": "application/julia",
   "name": "julia",
   "version": "1.10.0"
  }
 },
 "nbformat": 4,
 "nbformat_minor": 5
}

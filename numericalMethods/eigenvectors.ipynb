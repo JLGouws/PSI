{
 "cells": [
  {
   "cell_type": "markdown",
   "id": "87f0a720-d0c0-4cd8-bb91-77d8dfed6433",
   "metadata": {},
   "source": [
    "# Tutorial 2"
   ]
  },
  {
   "cell_type": "code",
   "execution_count": 1,
   "id": "f0fbac23-edc7-45e2-979c-d392e3b8b5de",
   "metadata": {},
   "outputs": [],
   "source": [
    "using LinearAlgebra\n",
    "using Statistics"
   ]
  },
  {
   "cell_type": "code",
   "execution_count": 2,
   "id": "f8baa0fe-bd4b-4e39-93dc-85eb7b0cd574",
   "metadata": {},
   "outputs": [
    {
     "data": {
      "text/plain": [
       "powerMethodFirst (generic function with 1 method)"
      ]
     },
     "execution_count": 2,
     "metadata": {},
     "output_type": "execute_result"
    }
   ],
   "source": [
    "function powerMethodFirst(A, N)\n",
    "    x = 10 * randn(size(A)[begin])\n",
    "    for i in 1:N\n",
    "        x = A * x\n",
    "        x /= norm(x)\n",
    "    end\n",
    "    x\n",
    "end"
   ]
  },
  {
   "cell_type": "code",
   "execution_count": 3,
   "id": "67f2682f-f4dc-4c34-be74-daed8e76548e",
   "metadata": {},
   "outputs": [],
   "source": [
    "A = randn(10, 10)\n",
    "A += A'\n",
    "A ^= 2;"
   ]
  },
  {
   "cell_type": "code",
   "execution_count": 4,
   "id": "55e25198-34b6-467f-9457-d9da843d6702",
   "metadata": {},
   "outputs": [
    {
     "name": "stdout",
     "output_type": "stream",
     "text": [
      "[64.71287609224966, 61.129325513711905, 64.1999136609366, 66.54314337598511, 66.60848201737215, 53.32240147706002, 58.93545862322845, 63.11980908417552, 63.23323332130812, 71.62867297889743]\n",
      "[64.52028565668921, 64.52030016139074, 64.52029500496572, 64.52029281019888, 64.52030446454066, 64.52004219806346, 64.52035901313154, 64.52028505972031, 64.5203141440113, 64.5202846243402]\n"
     ]
    }
   ],
   "source": [
    "v = powerMethodFirst(A, 10)\n",
    "println((A * v) ./ v)\n",
    "v = powerMethodFirst(A, 100)\n",
    "println((A * v) ./ v)"
   ]
  },
  {
   "cell_type": "code",
   "execution_count": 5,
   "id": "a7c6d069-bbf8-4a9e-9905-f090997582b0",
   "metadata": {},
   "outputs": [
    {
     "data": {
      "text/plain": [
       "powerAllNaive (generic function with 1 method)"
      ]
     },
     "execution_count": 5,
     "metadata": {},
     "output_type": "execute_result"
    }
   ],
   "source": [
    "function powerAllNaive(A, N)\n",
    "    function next()\n",
    "        x = randn(size(A)[begin])\n",
    "        for i in 1:N\n",
    "            x = A * x\n",
    "            x /= norm(x)\n",
    "        end\n",
    "        A -=  A * x * x'\n",
    "        x\n",
    "    end\n",
    "end"
   ]
  },
  {
   "cell_type": "code",
   "execution_count": 6,
   "id": "35653cbb-4dcd-4d47-9914-88198d2fcbc9",
   "metadata": {},
   "outputs": [
    {
     "data": {
      "text/plain": [
       "(::var\"#next#1\"{Int64}) (generic function with 1 method)"
      ]
     },
     "execution_count": 6,
     "metadata": {},
     "output_type": "execute_result"
    }
   ],
   "source": [
    "gen = powerAllNaive(A, 200)"
   ]
  },
  {
   "cell_type": "code",
   "execution_count": 7,
   "id": "2a882619-16f1-4979-b1b3-55480119fd39",
   "metadata": {},
   "outputs": [
    {
     "name": "stdout",
     "output_type": "stream",
     "text": [
      "64.5202924225627\n",
      "55.66235638295386\n",
      "54.280265924671944\n",
      "18.81751039849152\n",
      "16.424693275389235\n",
      "14.315335957465818\n",
      "6.797565604923584\n",
      "5.7834094943876355\n",
      "2.123200185585855\n",
      "0.0014522713435039928\n"
     ]
    }
   ],
   "source": [
    "for i in 1:10\n",
    "    v = gen()\n",
    "    println(norm(A* v))\n",
    "end"
   ]
  },
  {
   "cell_type": "code",
   "execution_count": 8,
   "id": "2cc4096b-7e03-419a-912f-87db554a493e",
   "metadata": {},
   "outputs": [
    {
     "data": {
      "text/plain": [
       "Eigen{Float64, Float64, Matrix{Float64}, Vector{Float64}}\n",
       "values:\n",
       "10-element Vector{Float64}:\n",
       "  0.0014522713435007305\n",
       "  2.123200185585858\n",
       "  5.783409494387619\n",
       "  6.797565604923585\n",
       " 14.315335957465823\n",
       " 16.42469327538922\n",
       " 18.81751039849149\n",
       " 54.280240052291425\n",
       " 55.662380375532855\n",
       " 64.52029242256268\n",
       "vectors:\n",
       "10×10 Matrix{Float64}:\n",
       "  0.167407   -0.42191     0.225788   …   0.240269   -0.377994   -0.481185\n",
       " -0.418978    0.324247    0.202841       0.562591    0.206174   -0.242395\n",
       " -0.278451   -0.184424   -0.488476      -0.0247179   0.195971   -0.659189\n",
       " -0.110776   -0.667949    0.0354827      0.335985   -0.0201792   0.328078\n",
       " -0.344586    0.2322      0.166644       0.392796   -0.262043    0.184714\n",
       " -0.224241   -0.0427787   0.0134346  …  -0.153586   -0.660031   -0.0230487\n",
       "  0.258833    0.0762033   0.175465       0.0720061   0.237355   -0.0311831\n",
       " -0.664832   -0.244437   -0.0154369     -0.351039    0.192052    0.220173\n",
       "  0.0181786   0.266053   -0.667427       0.150871   -0.362079    0.144098\n",
       " -0.168156    0.211187    0.404439      -0.428034   -0.217189   -0.250354"
      ]
     },
     "execution_count": 8,
     "metadata": {},
     "output_type": "execute_result"
    }
   ],
   "source": [
    "eigen(A)"
   ]
  },
  {
   "cell_type": "code",
   "execution_count": 9,
   "id": "61bbf74e-b9a7-4986-ab95-376b13455c4e",
   "metadata": {},
   "outputs": [
    {
     "data": {
      "text/plain": [
       "3"
      ]
     },
     "execution_count": 9,
     "metadata": {},
     "output_type": "execute_result"
    }
   ],
   "source": [
    "x = 3"
   ]
  },
  {
   "cell_type": "code",
   "execution_count": null,
   "id": "726e635c-0d30-4953-8198-0774a3ee91b5",
   "metadata": {},
   "outputs": [],
   "source": []
  }
 ],
 "metadata": {
  "kernelspec": {
   "display_name": "Julia 1.10.0",
   "language": "julia",
   "name": "julia-1.10"
  },
  "language_info": {
   "file_extension": ".jl",
   "mimetype": "application/julia",
   "name": "julia",
   "version": "1.10.0"
  }
 },
 "nbformat": 4,
 "nbformat_minor": 5
}

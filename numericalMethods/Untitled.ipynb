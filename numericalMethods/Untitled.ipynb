{
 "cells": [
  {
   "cell_type": "markdown",
   "id": "c05100a7-e07b-4905-83e7-6e83a8cc51d4",
   "metadata": {},
   "source": [
    "$$O(f(n)) := \\{g(n): \\exists C, n_0 \\text{ such that } g(n) \\leq C f(n) \\text{ for all } n \\geq n_0 \\}$$"
   ]
  },
  {
   "cell_type": "code",
   "execution_count": null,
   "id": "1a23b274-a4ed-489d-9130-23254b9e9a87",
   "metadata": {},
   "outputs": [],
   "source": []
  }
 ],
 "metadata": {
  "kernelspec": {
   "display_name": "Julia 1.10.0",
   "language": "julia",
   "name": "julia-1.10"
  },
  "language_info": {
   "file_extension": ".jl",
   "mimetype": "application/julia",
   "name": "julia",
   "version": "1.10.0"
  }
 },
 "nbformat": 4,
 "nbformat_minor": 5
}

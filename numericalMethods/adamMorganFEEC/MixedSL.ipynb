{
 "cells": [
  {
   "cell_type": "code",
   "execution_count": 3,
   "metadata": {},
   "outputs": [
    {
     "name": "stderr",
     "output_type": "stream",
     "text": [
      "/tmp/ipykernel_75959/1778034053.py:2: DeprecationWarning: Importing display from IPython.core.display is deprecated since IPython 7.14, please import from IPython display\n",
      "  from IPython.core.display import display, HTML\n"
     ]
    },
    {
     "data": {
      "text/html": [
       "<style>.container { width:90% !important; }</style>"
      ],
      "text/plain": [
       "<IPython.core.display.HTML object>"
      ]
     },
     "metadata": {},
     "output_type": "display_data"
    }
   ],
   "source": [
    "# Expand the view to scale with window width\n",
    "from IPython.core.display import display, HTML\n",
    "display(HTML(\"<style>.container { width:90% !important; }</style>\"))"
   ]
  },
  {
   "cell_type": "markdown",
   "metadata": {},
   "source": [
    "<h1 align=\"center\">\n",
    "Mixed Finite Element Methods for Elliptic PDEs\n",
    "</h1>\n",
    "<h2 align=\"center\">\n",
    "Adam Morgan\n",
    "</h2>"
   ]
  },
  {
   "cell_type": "markdown",
   "metadata": {},
   "source": [
    "This demo borrows heavily from the Firedrake Poisson equation tutorial, available on the web at https://www.firedrakeproject.org/demos/poisson_mixed.py.html . "
   ]
  },
  {
   "cell_type": "markdown",
   "metadata": {},
   "source": [
    "## The Problem"
   ]
  },
  {
   "cell_type": "markdown",
   "metadata": {},
   "source": [
    "Consider a domain $\\Omega\\subseteq \\mathbb{R}^{2}$. In this demo, we study the general Sturm-Liouville PDE, given by\n",
    "\n",
    "$$\n",
    "- \\nabla \\cdot \\left( p(x,y)  \\ \\nabla u \\right) + q(x,y) \\ u \n",
    "= f(x,y). \n",
    "$$\n",
    "\n",
    "The functions $p(x,y), q(x,y),$ and $f(x,y)$ are parameters of the problem. $f(x,y)$ is called the forcing term. The Poisson equation corresponds to the choices $p=1, q=0$. \n",
    "\n",
    "For the purposes of this demonstration, we only consider the Dirichlet boundary condition \n",
    "\n",
    "$$\n",
    "u|_{\\partial \\Omega} = g(x,y).\n",
    "$$\n",
    "\n"
   ]
  },
  {
   "cell_type": "markdown",
   "metadata": {},
   "source": [
    "## Introducing the Mixed Formulation"
   ]
  },
  {
   "cell_type": "markdown",
   "metadata": {},
   "source": [
    "Now, the PDE above can be recast as a system of PDEs in terms of the scalar field $u$ and the vector field $\\boldsymbol{\\sigma}$. This system reads\n",
    "\n",
    "\\begin{align}\n",
    "\\boldsymbol{\\sigma} -\\nabla u &=0\n",
    "\\\\ \\nabla\\cdot\\left(p\\ \\boldsymbol{\\sigma}\\right) - q \\ u &= -f. \n",
    "\\end{align}\n",
    "\n",
    "subject to the same BCs (the situation is different if we start with a Neumann boundary condition on $u$, since this translates to a Dirichlet condition on $\\sigma$)."
   ]
  },
  {
   "cell_type": "markdown",
   "metadata": {},
   "source": [
    "We now find a bilinear form $a$ and a linear functional $L$ such that the weak form of the Sturm-Liouville equation can be written as $a=L.$ Denote test functions by $(\\boldsymbol{\\tau},v)$. Let the outward unit normal on $\\partial \\Omega$ be denoted by $\\mathbf{n}$. Then, define\n",
    "\\begin{align}\n",
    "a\\left((\\boldsymbol{\\sigma},u),(\\boldsymbol{\\tau},v)\\right) &= \\iint_{\\Omega} \\boldsymbol{\\sigma}\\cdot \\boldsymbol{\\tau} + u\\nabla\\cdot \\boldsymbol{\\tau} + v \\ \\nabla\\cdot(p\\boldsymbol{\\sigma}) -quv \\ \\mathrm{d}x \\ \\mathrm{d}y, \\quad \\text{and}\n",
    "\\\\ L(\\boldsymbol{\\tau},v) &= -\\iint_{\\Omega} fv \\ \\mathrm{d}A + \\oint_{\\partial \\Omega} g \\ \\tau\\cdot \\mathbf{n} \\ \\mathrm{d} s.\n",
    "\\end{align}\n",
    "A quick check with integration by parts shows that $a\\left((\\boldsymbol{\\sigma},u),(\\boldsymbol{\\tau},v)\\right)=L(\\boldsymbol{\\tau},v)$ is indeed the weak form of the Sturm-Liouville equation."
   ]
  },
  {
   "cell_type": "markdown",
   "metadata": {},
   "source": [
    "## Function Spaces\n",
    "We choose $\\boldsymbol{\\sigma}$ to be in either the order $r$ Raviart-Thomas space, denoted $\\mathrm{RT}(r)$, or the order $r$ Brezzi-Douglas-Marini space, denoted $\\mathrm{BDM}(r)$. We choose $u$ to be in the order $r-1$ discontinuous Lagrange space, denoted $\\mathrm{DG}(r-1)$. Then, the de Rham diagrams \n",
    "$$ \\mathrm{RT}(r)\\xrightarrow{\\nabla\\cdot}\\mathrm{DG}(r-1) \\quad \\text{and} \\quad \\mathrm{BDM}(r)\\xrightarrow{\\nabla\\cdot}\\mathrm{DG}(r-1)$$\n",
    "are satisfied. Consequently, finite element exterior calculus (FEEC) guarantees that such a choice of spaces gives an approximation that is consistent with the cohomology of $\\Omega$. \n",
    "\n",
    "In the code below, I actually give the option to make alternative choices of function spaces that do not respect the requirements of FEEC. You can play with these alternative choices to see that the solutions they give are often quite poor, either not resembling the true solution at all or not resolving the solution very well near the boundary. "
   ]
  },
  {
   "cell_type": "markdown",
   "metadata": {},
   "source": [
    "## Some Remarks on the Theory\n",
    "In the main thesis, I did not discuss stability and convergence at all, even for important problems like the Poisson equation. However, FEEC provides an elegant framework for studying stability and convergence, as demonstrated in the 2010 paper of Arnold, Falk, and Winther (available at https://arxiv.org/pdf/0906.4325.pdf). In Sections 3.2 and 3.4 of this paper, the authors show that the mixed formulation of the Poisson equation on $k$-forms (a special case of the method derived above for the general Sturm-Liouville PDE) is well-posed and converges to the exact solution, provided the finite element spaces are chosen according to the demands of FEEC. \n",
    "\n",
    "Note that the problem we consider here is more properly phrased as a PDE for the coefficient function $u$ of a $2$-form, rather than a scalar function. This is because we want the exterior derivative on $\\sigma$ to correspond with the divergence and the exterior coderivative on $u$ to correspond with the gradient. Since the space of harmonic $2$-forms on a dimensional domain in $\\mathbb{R}^2$ is trivial, we do not have to worry about demanding that the forcing term and solution are orthogonal to the harmonic forms in order to obtain good numerical solutions. In general, however, one must be careful to "
   ]
  },
  {
   "cell_type": "markdown",
   "metadata": {},
   "source": [
    "## Implementation in Firedrake"
   ]
  },
  {
   "cell_type": "code",
   "execution_count": 4,
   "metadata": {},
   "outputs": [
    {
     "ename": "KeyError",
     "evalue": "'honour_petsc_dir'",
     "output_type": "error",
     "traceback": [
      "\u001b[0;31m---------------------------------------------------------------------------\u001b[0m",
      "\u001b[0;31mKeyError\u001b[0m                                  Traceback (most recent call last)",
      "Cell \u001b[0;32mIn[4], line 3\u001b[0m\n\u001b[1;32m      1\u001b[0m \u001b[38;5;66;03m# Import libraries\u001b[39;00m\n\u001b[0;32m----> 3\u001b[0m \u001b[38;5;28;01mimport\u001b[39;00m \u001b[38;5;21;01mfiredrake\u001b[39;00m\n\u001b[1;32m      4\u001b[0m \u001b[38;5;28;01mimport\u001b[39;00m \u001b[38;5;21;01mnumpy\u001b[39;00m \u001b[38;5;28;01mas\u001b[39;00m \u001b[38;5;21;01mnp\u001b[39;00m                      \n\u001b[1;32m      5\u001b[0m \u001b[38;5;28;01mimport\u001b[39;00m \u001b[38;5;21;01mmatplotlib\u001b[39;00m\u001b[38;5;21;01m.\u001b[39;00m\u001b[38;5;21;01mpyplot\u001b[39;00m \u001b[38;5;28;01mas\u001b[39;00m \u001b[38;5;21;01mplt\u001b[39;00m\n",
      "File \u001b[0;32m~/PSICourses/numericalMethods/firedrake/src/firedrake/firedrake/__init__.py:10\u001b[0m\n\u001b[1;32m      6\u001b[0m     \u001b[38;5;28;01mif\u001b[39;00m os\u001b[38;5;241m.\u001b[39menviron[\u001b[38;5;124m\"\u001b[39m\u001b[38;5;124mPETSC_DIR\u001b[39m\u001b[38;5;124m\"\u001b[39m] \u001b[38;5;241m!=\u001b[39m os\u001b[38;5;241m.\u001b[39mpath\u001b[38;5;241m.\u001b[39mjoin(sys\u001b[38;5;241m.\u001b[39mprefix, \u001b[38;5;124m\"\u001b[39m\u001b[38;5;124msrc\u001b[39m\u001b[38;5;124m\"\u001b[39m, \u001b[38;5;124m\"\u001b[39m\u001b[38;5;124mpetsc\u001b[39m\u001b[38;5;124m\"\u001b[39m)\\\n\u001b[1;32m      7\u001b[0m        \u001b[38;5;129;01mor\u001b[39;00m os\u001b[38;5;241m.\u001b[39menviron[\u001b[38;5;124m\"\u001b[39m\u001b[38;5;124mPETSC_ARCH\u001b[39m\u001b[38;5;124m\"\u001b[39m] \u001b[38;5;241m!=\u001b[39m \u001b[38;5;124m\"\u001b[39m\u001b[38;5;124mdefault\u001b[39m\u001b[38;5;124m\"\u001b[39m:\n\u001b[1;32m      8\u001b[0m         \u001b[38;5;28;01mraise\u001b[39;00m \u001b[38;5;167;01mImportError\u001b[39;00m(\u001b[38;5;124m\"\u001b[39m\u001b[38;5;124mPETSC_DIR is set, but you did not install with --honour-petsc-dir.\u001b[39m\u001b[38;5;130;01m\\n\u001b[39;00m\u001b[38;5;124m\"\u001b[39m\n\u001b[1;32m      9\u001b[0m                           \u001b[38;5;124m\"\u001b[39m\u001b[38;5;124mPlease unset PETSC_DIR (and PETSC_ARCH) before using Firedrake.\u001b[39m\u001b[38;5;124m\"\u001b[39m)\n\u001b[0;32m---> 10\u001b[0m \u001b[38;5;28;01melif\u001b[39;00m \u001b[38;5;124m\"\u001b[39m\u001b[38;5;124mPETSC_DIR\u001b[39m\u001b[38;5;124m\"\u001b[39m \u001b[38;5;129;01mnot\u001b[39;00m \u001b[38;5;129;01min\u001b[39;00m os\u001b[38;5;241m.\u001b[39menviron \u001b[38;5;129;01mand\u001b[39;00m \u001b[43mconfig\u001b[49m\u001b[43m[\u001b[49m\u001b[38;5;124;43m\"\u001b[39;49m\u001b[38;5;124;43moptions\u001b[39;49m\u001b[38;5;124;43m\"\u001b[39;49m\u001b[43m]\u001b[49m\u001b[43m[\u001b[49m\u001b[38;5;124;43m\"\u001b[39;49m\u001b[38;5;124;43mhonour_petsc_dir\u001b[39;49m\u001b[38;5;124;43m\"\u001b[39;49m\u001b[43m]\u001b[49m:\n\u001b[1;32m     11\u001b[0m     \u001b[38;5;28;01mraise\u001b[39;00m \u001b[38;5;167;01mImportError\u001b[39;00m(\u001b[38;5;124m\"\u001b[39m\u001b[38;5;124mFiredrake was installed with --honour-petsc-dir, but PETSC_DIR is not set.\u001b[39m\u001b[38;5;130;01m\\n\u001b[39;00m\u001b[38;5;124m\"\u001b[39m\n\u001b[1;32m     12\u001b[0m                       \u001b[38;5;124m\"\u001b[39m\u001b[38;5;124mPlease set PETSC_DIR (and PETSC_ARCH) before using Firedrake.\u001b[39m\u001b[38;5;124m\"\u001b[39m)\n\u001b[1;32m     13\u001b[0m \u001b[38;5;28;01melif\u001b[39;00m \u001b[38;5;129;01mnot\u001b[39;00m config[\u001b[38;5;124m\"\u001b[39m\u001b[38;5;124moptions\u001b[39m\u001b[38;5;124m\"\u001b[39m][\u001b[38;5;124m\"\u001b[39m\u001b[38;5;124mhonour_petsc_dir\u001b[39m\u001b[38;5;124m\"\u001b[39m]:  \u001b[38;5;66;03m# Using our own PETSC.\u001b[39;00m\n",
      "\u001b[0;31mKeyError\u001b[0m: 'honour_petsc_dir'"
     ]
    }
   ],
   "source": [
    "# Import libraries\n",
    "\n",
    "import firedrake\n",
    "import numpy as np                      \n",
    "import matplotlib.pyplot as plt"
   ]
  },
  {
   "cell_type": "code",
   "execution_count": null,
   "metadata": {},
   "outputs": [],
   "source": [
    "Lx, Ly = 1.0, 1.0\n",
    "\n",
    "n   = 100\n",
    "mesh = RectangleMesh(n, n, Lx, Ly,  reorder = None) \n",
    "\n",
    "x,y = SpatialCoordinate(mesh)"
   ]
  },
  {
   "cell_type": "markdown",
   "metadata": {},
   "source": [
    "Now, we come to inputting our choices of finite element spaces. Fortunately, Firedrake makes this very easy. I provide four possible choices of function spaces in order for the user to see that choosing spaces with FEEC in mind often gives unambiguously nicer results. \n",
    "\n",
    "Choosing SpaceChoice = 1 or 2 gives us spaces that respect the FEEC requirements discussed in Chapter 9 of the thesis. The numerical solutions they yield are similar to one another and, after the 2010 paper of Arnold et al. discussed above, we can expect these solutions to be close to the exact solution.\n",
    "\n",
    "Choosing SpaceChoice = 3 or 4, conversely, gives messy solutions. These choices do not conform to FEEC requirements. For SpaceChoice =3, the finite element family is right but the degrees of the polynomials do not match up to give a subcomplex of the de Rham complex. For SpaceChoice =4, we've used an approximating space for $\\sigma$ that is not on the periodic table at all, consisting of vector fields whose entries are globally continuous piecewise degree $1$ polynomials. \n",
    "\n",
    "I would like to remark on how easily we can input a choice of finite element spaces in Firedrake: the software contains a catalogue of common spaces, and we just input whatever ones we want. So, there really is no excuse not to use a FEEC-inspired method, as such a method is just as easy to code up as a more naïve \"bad\" method. "
   ]
  },
  {
   "cell_type": "code",
   "execution_count": null,
   "metadata": {},
   "outputs": [],
   "source": [
    "SpaceChoice = 1\n",
    "\n",
    "if SpaceChoice == 1:\n",
    "    \n",
    "    # Good Choice of Function Spaces 1\n",
    "    # Here, we use the trimmed family, so we have to choose spaces \n",
    "    # by going horizontally in the first column of the periodic table. \n",
    "    deg = 1 \n",
    "\n",
    "    Vparam = FunctionSpace(mesh, \"CG\", deg) #Use vparam to ensure that div(p sigma) exists. \n",
    "\n",
    "    Vvect = FunctionSpace(mesh, \"RT\", deg) # Space where sigma lives, chosen to be RT(deg)\n",
    "    Vscal = FunctionSpace(mesh, \"DG\", deg-1) # Space where u lives, chosen to be DG(deg-1)\n",
    "    V = MixedFunctionSpace([Vvect,Vscal])\n",
    "    \n",
    "elif SpaceChoice == 2:\n",
    "    \n",
    "    # Good Choice of Function Spaces 2\n",
    "    # Here, we use the regular family, so we have to choose spaces \n",
    "    # by going diagonally in the second column of the periodic table. \n",
    "    deg = 1 \n",
    "\n",
    "    Vparam = FunctionSpace(mesh, \"CG\", deg) #Use vparam to ensure that div(p sigma) exists. \n",
    "\n",
    "    Vvect = FunctionSpace(mesh, \"BDM\", deg) # Space where sigma lives, chosen to be BDM(deg)\n",
    "    Vscal = FunctionSpace(mesh, \"DG\", deg-1) # Space where u lives, chosen to be DG(deg-1)\n",
    "    V = MixedFunctionSpace([Vvect,Vscal])\n",
    "    \n",
    "elif SpaceChoice == 3:\n",
    "\n",
    "    # Bad Choice of Function Spaces 1\n",
    "    # Running this choice gives a solution that does not at all resemble the (correct) solution \n",
    "    # predicted by the first two function space choices. \n",
    "\n",
    "    deg = 1 \n",
    "\n",
    "    Vparam = FunctionSpace(mesh, \"CG\", deg) #Use vparam to ensure that div(p sigma) exists. \n",
    "\n",
    "    Vvect = FunctionSpace(mesh, \"RT\", deg+1) # Space where sigma lives, chosen to be RT(deg+1)\n",
    "    Vscal = FunctionSpace(mesh, \"DG\", deg-1) # Space where u lives, chosen to be DG(deg-1)\n",
    "    V = MixedFunctionSpace([Vvect,Vscal])\n",
    " \n",
    "elif SpaceChoice == 4:\n",
    "\n",
    "    # Bad Choice of Function Spaces 2\n",
    "    # This choice gives a messy, jagged solution that jumps around too much. \n",
    "    # The resolution of the solution near the boundary is especially poor. \n",
    "\n",
    "    deg = 1 \n",
    "\n",
    "    Vparam = FunctionSpace(mesh, \"CG\", deg) #Use vparam to ensure that div(p sigma) exists. \n",
    "\n",
    "    Vvect = VectorFunctionSpace(mesh, \"CG\", deg) # Space where sigma lives, chosen to be CG(deg) \\oplus CG(deg)\n",
    "    Vscal = FunctionSpace(mesh, \"DG\", deg-1) # Space where u lives, chosen to be DG(deg-1)\n",
    "    V = MixedFunctionSpace([Vvect,Vscal])\n",
    "\n",
    "else:\n",
    "    \n",
    "    print('User must choose finite element spaces.')\n",
    "    sys.exit()"
   ]
  },
  {
   "cell_type": "markdown",
   "metadata": {},
   "source": [
    "Now, we specify the functions $g,\\  f,\\  p$, and $q$. The default choices are\n",
    "\n",
    "\\begin{align}\n",
    "g(x,y) &= x,\n",
    "\\\\ \\\\ f(x,y) &= 30 \\ e^{-50\\left[\\left(x-\\frac12\\right)^2 + \\left(y-\\frac12\\right)^2\\right]},\n",
    "\\\\ \\\\ p(x,y) &=1, \\quad \\text{and}\n",
    "\\\\ \\\\ q(x,y) &= 25(1+x).\n",
    "\\end{align}"
   ]
  },
  {
   "cell_type": "code",
   "execution_count": null,
   "metadata": {},
   "outputs": [],
   "source": [
    "# Specify Dirichlet boundary conditions\n",
    "\n",
    "g=interpolate(Expression(\"x[0]\"),Vscal)\n",
    "bcs = DirichletBC(V.sub(1), g, \"on_boundary\", method=\"geometric\")"
   ]
  },
  {
   "cell_type": "code",
   "execution_count": null,
   "metadata": {},
   "outputs": [],
   "source": [
    "# Functions\n",
    "f = Function(Vscal)\n",
    "p = Function(Vparam)\n",
    "q = Function(Vparam)\n",
    "\n",
    "f.interpolate(Expression(\"30.*exp(-(pow(x[0] - 0.5, 2) + pow(x[1] - 0.5, 2)) / 0.02)\"));\n",
    "#f.interpolate(Expression(\"-4.0+x[0]*x[0]*x[0]*x[1]+x[1]*x[1]*x[0]*x[1]\"));\n",
    "\n",
    "#p.interpolate(Expression(\" 1.0 - 0.3*pow(x[0]*x[1],2)\"));\n",
    "p.interpolate(Expression(\"1.0\"));\n",
    "\n",
    "#q.interpolate(Expression(\"x[0]*x[1]\"));\n",
    "q.interpolate(Expression(\" 25.0 + 25.0*x[0]\"));\n",
    "\n"
   ]
  },
  {
   "cell_type": "code",
   "execution_count": null,
   "metadata": {},
   "outputs": [],
   "source": [
    "# Define weak form \n",
    "tau, v = TestFunctions(V)\n",
    "sigma, u = TrialFunctions(V)\n",
    "\n",
    "K= FacetNormal(mesh)\n",
    "\n",
    "a = (dot(sigma,tau) + u * div(tau)+v * div(p * sigma) - q * u * v) * dx \n",
    "L = (-f * v) * dx + (g*dot(K,tau)) *ds\n",
    "\n",
    "# Notice how different commands (dx or ds)  have been used to select whether the integral \n",
    "# is taken over the domain or the boundary"
   ]
  },
  {
   "cell_type": "markdown",
   "metadata": {},
   "source": [
    "The choices of solver parameters applied below are inspired by \n",
    "\n",
    "https://www.firedrakeproject.org/demos/saddle_point_systems.py.html . \n",
    "\n",
    "Numerical linear algebra is actually a big issue: the wrong solver parameters will \n",
    "decouple the BCs from the internal solution (for example, try ksptype=preonly for a \"good\" choice of spaces). Note that, for some of the \"bad\" choices, you may have to comment out the \"solver_parameters\" to get the routine to converge. "
   ]
  },
  {
   "cell_type": "code",
   "execution_count": null,
   "metadata": {},
   "outputs": [],
   "source": [
    "soln = Function(V)\n",
    "sigmah, uh = soln.split() #Break into components for plotting\n",
    "\n",
    "solve(a == L, soln, bcs = bcs\n",
    ",solver_parameters = {\n",
    "    \"ksp_type\": \"fgmres\",\n",
    "    \"ksp_rtol\": 1e-8})"
   ]
  },
  {
   "cell_type": "code",
   "execution_count": null,
   "metadata": {},
   "outputs": [],
   "source": [
    "# PLOT SOLUTION\n",
    "plot(uh)\n",
    "plt.xlabel('x')\n",
    "plt.ylabel('y')\n",
    "plt.title('u(x,y)')\n",
    "plt.xlim([0,Lx])\n",
    "plt.ylim([0,Ly])\n",
    "plt.show()"
   ]
  },
  {
   "cell_type": "markdown",
   "metadata": {},
   "source": [
    "After playing around with the \"good\" (SpaceChoice=1 and 2) and \"bad\" (SpaceChoice=3 and 4) choices, one can see that choosing approximating spaces contributes a great deal to the success or failure of a numerical method. In particular, we don't always have a lot of wiggle room to choose spaces outside of the FEEC formalism (SpaceChoice=3 demonstrates this very clearly). Though the failures of the \"bad\" choices are not nearly as dramatic as those discussed in the 2010 paper of Arnold, Falk and Winther, they still mean that we can't really use such choices to make reliable quantitative predictions with this solver. "
   ]
  }
 ],
 "metadata": {
  "kernelspec": {
   "display_name": "Python 3 (ipykernel)",
   "language": "python",
   "name": "python3"
  },
  "language_info": {
   "codemirror_mode": {
    "name": "ipython",
    "version": 3
   },
   "file_extension": ".py",
   "mimetype": "text/x-python",
   "name": "python",
   "nbconvert_exporter": "python",
   "pygments_lexer": "ipython3",
   "version": "3.11.2"
  }
 },
 "nbformat": 4,
 "nbformat_minor": 4
}

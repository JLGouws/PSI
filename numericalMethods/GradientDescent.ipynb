{
 "cells": [
  {
   "cell_type": "code",
   "execution_count": 4,
   "id": "100c8fe3-1a69-4e1a-b5c7-7609104e4e29",
   "metadata": {},
   "outputs": [
    {
     "data": {
      "text/plain": [
       "conjugateDescent (generic function with 1 method)"
      ]
     },
     "execution_count": 4,
     "metadata": {},
     "output_type": "execute_result"
    }
   ],
   "source": [
    "function conjugateDescent(A, b, N)    \n",
    "  sol = A \\ b    \n",
    "  x = zero(b)    \n",
    "  r_0 = r_1 = b - A * x    \n",
    "  p = r_0    \n",
    "  beta = 0    \n",
    "  for n in 1:N    \n",
    "    alpha =  (r_0' * r_0 ) / (p' * A * p)#(x' * A * r - b' * r) / (r' * A * r)    \n",
    "    x += alpha * p    \n",
    "    r_1 -= alpha * A * p    \n",
    "    beta = r_1' * r_1 / (r_0' * r_0)    \n",
    "    p = r_1 + beta * p    \n",
    "    r_0 = r_1    \n",
    "#    x += 0.05 * r     \n",
    "    println(\"e: \" * string(sum((x - sol) .* (x - sol))))    \n",
    "    println()    \n",
    "    \n",
    "  end    \n",
    "  return x   \n",
    "end"
   ]
  },
  {
   "cell_type": "code",
   "execution_count": 6,
   "id": "46a3f1a6-011e-473f-b969-04c9727e879a",
   "metadata": {},
   "outputs": [
    {
     "name": "stdout",
     "output_type": "stream",
     "text": [
      "e: 0.01137697519178293\n",
      "\n",
      "e: 0.005733049845085512\n",
      "\n",
      "e: 0.003095232219016295\n",
      "\n",
      "e: 0.0024756890854305486\n",
      "\n",
      "e: 3.0174146291822445e-30\n",
      "\n",
      "e: 4.935195482492292e-32\n",
      "\n",
      "e: 4.296027482198778e-32\n",
      "\n",
      "e: 3.5256555044438836e-32\n",
      "\n",
      "e: 2.77935765099383e-32\n",
      "\n",
      "e: 2.359264181874364e-32\n",
      "\n"
     ]
    },
    {
     "data": {
      "text/plain": [
       "5-element Vector{Float64}:\n",
       " 0.03723740274273523\n",
       " 0.02442923770105921\n",
       " 0.08531386721378668\n",
       " 0.06097413512259589\n",
       " 0.06283630881120868"
      ]
     },
     "execution_count": 6,
     "metadata": {},
     "output_type": "execute_result"
    }
   ],
   "source": [
    "A = randn(5, 5)\n",
    "A = A + A'\n",
    "A = A * A\n",
    "\n",
    "b = randn(5)\n",
    "\n",
    "conjugateDescent(A, b, 10)"
   ]
  },
  {
   "cell_type": "code",
   "execution_count": 9,
   "id": "260340e9-a922-4f62-8680-3acaf852b95b",
   "metadata": {},
   "outputs": [
    {
     "data": {
      "text/plain": [
       "conjugateDescent2 (generic function with 1 method)"
      ]
     },
     "execution_count": 9,
     "metadata": {},
     "output_type": "execute_result"
    }
   ],
   "source": [
    "function conjugateDescent2(A, b, N)    \n",
    "  sol = A \\ b    \n",
    "  x = zero(b)    \n",
    "  r_0 = r_1 = b - A * x    \n",
    "  p = r_0    \n",
    "  beta = 0    \n",
    "  for n in 1:N    \n",
    "    alpha =  (p' * r_0 ) / (p' * A * p)#(x' * A * r - b' * r) / (r' * A * r)    \n",
    "    x += alpha * p    \n",
    "    r_1 -= alpha * A * p    \n",
    "    beta = - p' * A * r_1 / (p' * A * p)    \n",
    "    p = r_1 + beta * p    \n",
    "    r_0 = r_1    \n",
    "#    x += 0.05 * r     \n",
    "    println(\"e: \" * string(sum((x - sol) .* (x - sol))))    \n",
    "    println()    \n",
    "    \n",
    "  end    \n",
    "  return x    \n",
    "end"
   ]
  },
  {
   "cell_type": "code",
   "execution_count": 11,
   "id": "669d2404-d25b-4091-b8a0-909ba7ed6389",
   "metadata": {},
   "outputs": [
    {
     "name": "stdout",
     "output_type": "stream",
     "text": [
      "e: 0.05242851561910285\n",
      "\n",
      "e: 0.013310828962100717\n",
      "\n",
      "e: 0.0015936679935362591\n",
      "\n",
      "e: 0.00041362506948867044\n",
      "\n",
      "e: 5.346637313189706e-32\n",
      "\n",
      "e: 7.46674011642317e-33\n",
      "\n",
      "e: 6.900245878874893e-33\n",
      "\n",
      "e: 6.70765288443617e-33\n",
      "\n",
      "e: 6.67530327990154e-33\n",
      "\n",
      "e: 6.746773336431536e-33\n",
      "\n"
     ]
    },
    {
     "data": {
      "text/plain": [
       "5-element Vector{Float64}:\n",
       "  0.13096030269964423\n",
       "  0.007432420138837998\n",
       " -0.1853635247370634\n",
       " -0.013752224163212784\n",
       "  0.11749460936521915"
      ]
     },
     "execution_count": 11,
     "metadata": {},
     "output_type": "execute_result"
    }
   ],
   "source": [
    "A = randn(5, 5)\n",
    "A = A + A'\n",
    "A = A * A\n",
    "\n",
    "b = randn(5)\n",
    "\n",
    "conjugateDescent2(A, b, 10)"
   ]
  },
  {
   "cell_type": "code",
   "execution_count": null,
   "id": "716807e8-ead9-4753-a839-c8647012af26",
   "metadata": {},
   "outputs": [],
   "source": []
  }
 ],
 "metadata": {
  "kernelspec": {
   "display_name": "Julia 1.10.0",
   "language": "julia",
   "name": "julia-1.10"
  },
  "language_info": {
   "file_extension": ".jl",
   "mimetype": "application/julia",
   "name": "julia",
   "version": "1.10.0"
  }
 },
 "nbformat": 4,
 "nbformat_minor": 5
}
